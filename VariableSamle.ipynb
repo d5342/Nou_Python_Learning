{
 "cells": [
  {
   "cell_type": "code",
   "execution_count": 9,
   "id": "982a59ff-4adc-4bf9-924e-64b57eacde9e",
   "metadata": {},
   "outputs": [
    {
     "name": "stdout",
     "output_type": "stream",
     "text": [
      "15 12 歡迎光臨!\n"
     ]
    }
   ],
   "source": [
    "_A = 12\n",
    "B_ = \"歡迎光臨!\"\n",
    "b_ = 15\n",
    "print(b_,_A,B_)"
   ]
  },
  {
   "cell_type": "code",
   "execution_count": 2,
   "id": "61f95686-7ea0-45d1-908e-3ddab911c1e2",
   "metadata": {},
   "outputs": [
    {
     "name": "stdout",
     "output_type": "stream",
     "text": [
      "歡迎光臨!\n"
     ]
    }
   ],
   "source": [
    "A = 12\n",
    "A = \"歡迎光臨!\"\n",
    "print(A)"
   ]
  },
  {
   "cell_type": "code",
   "execution_count": 4,
   "id": "b0c2385b-f4d8-4913-b3a1-b4c680c3957e",
   "metadata": {},
   "outputs": [
    {
     "name": "stdout",
     "output_type": "stream",
     "text": [
      "32 1 4 32 2 32\n"
     ]
    }
   ],
   "source": [
    "a=b=c=32\n",
    "e,f,g=1,2,4\n",
    "print(a,e,g,b,f,c)"
   ]
  },
  {
   "cell_type": "code",
   "execution_count": 11,
   "id": "4978c839-9039-44ad-b8c1-52caa1b63552",
   "metadata": {},
   "outputs": [
    {
     "name": "stdout",
     "output_type": "stream",
     "text": [
      "5\n",
      "10\n"
     ]
    }
   ],
   "source": [
    "(x,y)=(5,10)\n",
    "print(x)\n",
    "print(y)"
   ]
  },
  {
   "cell_type": "code",
   "execution_count": 19,
   "id": "8f20bc0f-1001-475b-85f6-5aaa2bb1e802",
   "metadata": {},
   "outputs": [
    {
     "name": "stdout",
     "output_type": "stream",
     "text": [
      "C\n",
      "T A\n",
      "False\n"
     ]
    }
   ],
   "source": [
    "a,b,c = 'CAT'\n",
    "print(a)\n",
    "print(c,b)\n",
    "print(a==b)"
   ]
  },
  {
   "cell_type": "code",
   "execution_count": 10,
   "id": "b9b5615b-57de-4b98-902a-ef1342bf6541",
   "metadata": {},
   "outputs": [
    {
     "name": "stdout",
     "output_type": "stream",
     "text": [
      "True\n"
     ]
    }
   ],
   "source": [
    "x=y=z=101\n",
    "print(x==y)"
   ]
  },
  {
   "cell_type": "code",
   "execution_count": 11,
   "id": "70c820fd-0617-4772-81ee-21f2408b5ba1",
   "metadata": {},
   "outputs": [
    {
     "name": "stdout",
     "output_type": "stream",
     "text": [
      "102\n"
     ]
    }
   ],
   "source": [
    "x += 1 # x = x+  1\n",
    "print(x)"
   ]
  },
  {
   "cell_type": "code",
   "execution_count": 12,
   "id": "f5ae1c74-5640-426c-8482-7cf40f0b8623",
   "metadata": {},
   "outputs": [
    {
     "name": "stdout",
     "output_type": "stream",
     "text": [
      "<class 'int'>\n"
     ]
    }
   ],
   "source": [
    "x = 20\n",
    "print(type(x))"
   ]
  },
  {
   "cell_type": "code",
   "execution_count": 13,
   "id": "1247daa8-ea77-4915-9631-13497eb451ee",
   "metadata": {},
   "outputs": [
    {
     "name": "stdout",
     "output_type": "stream",
     "text": [
      "20000.0\n"
     ]
    }
   ],
   "source": [
    "y=20e3\n",
    "print(y)"
   ]
  },
  {
   "cell_type": "code",
   "execution_count": 58,
   "id": "5b81bcb4-42cd-45b2-9523-6af83777a72f",
   "metadata": {},
   "outputs": [
    {
     "name": "stdout",
     "output_type": "stream",
     "text": [
      "2 2.0\n",
      "<class 'int'> <class 'float'>\n"
     ]
    }
   ],
   "source": [
    "A=2\n",
    "B=float(A)\n",
    "print(A,B)\n",
    "print(type(A),type(B))"
   ]
  },
  {
   "cell_type": "code",
   "execution_count": 20,
   "id": "a18f7d64-6b09-4d3a-bf82-a1cf9faeab1b",
   "metadata": {},
   "outputs": [
    {
     "name": "stdout",
     "output_type": "stream",
     "text": [
      "<class 'complex'>\n",
      "(2-4j)\n"
     ]
    }
   ],
   "source": [
    "z = 2-4j\n",
    "print(type(z))\n",
    "print(z)"
   ]
  },
  {
   "cell_type": "code",
   "execution_count": 60,
   "id": "8ae48c16-51a8-4f37-9bed-3069ce02e4c7",
   "metadata": {},
   "outputs": [
    {
     "name": "stdout",
     "output_type": "stream",
     "text": [
      "16\n"
     ]
    }
   ],
   "source": [
    "import random #載入random套件使用亂數randrange功能\n",
    "print(random.randrange(1,20)) #在1-20間亂數選取一個整數"
   ]
  },
  {
   "cell_type": "code",
   "execution_count": 61,
   "id": "11656d14-ba5f-4f14-8e74-252146fec371",
   "metadata": {},
   "outputs": [
    {
     "name": "stdout",
     "output_type": "stream",
     "text": [
      "Hi!\n"
     ]
    }
   ],
   "source": [
    "A = \"Hi!\"\n",
    "print(A)"
   ]
  },
  {
   "cell_type": "code",
   "execution_count": 63,
   "id": "e563f9de-e18f-434d-8fcb-c4f9e5dbd301",
   "metadata": {},
   "outputs": [
    {
     "name": "stdout",
     "output_type": "stream",
     "text": [
      "First, \n",
      "Second.\n"
     ]
    }
   ],
   "source": [
    "B= \"\"\"First, \n",
    "Second.\"\"\"\n",
    "print(B)"
   ]
  },
  {
   "cell_type": "code",
   "execution_count": 64,
   "id": "a9f1602b-2192-4b0e-917e-0ed52173e2f9",
   "metadata": {},
   "outputs": [
    {
     "name": "stdout",
     "output_type": "stream",
     "text": [
      "Hi!There\n",
      "H\n",
      "i\n",
      "!\n",
      "!Th\n",
      "er\n"
     ]
    }
   ],
   "source": [
    "x=\"Hi!There\"\n",
    "print(x)\n",
    "print(x[0])\n",
    "print(x[1])\n",
    "print(x[2])\n",
    "print(x[2:5])\n",
    "print(x[-3:-1])"
   ]
  },
  {
   "cell_type": "code",
   "execution_count": 32,
   "id": "f314ab02-4f72-436e-8ed3-e18a45641634",
   "metadata": {},
   "outputs": [
    {
     "name": "stdout",
     "output_type": "stream",
     "text": [
      "8\n"
     ]
    }
   ],
   "source": [
    "print(len(x))#len函式字串長度"
   ]
  },
  {
   "cell_type": "code",
   "execution_count": 7,
   "id": "645877d0-b8a3-4a33-bed1-cc9f10ebb8ac",
   "metadata": {},
   "outputs": [
    {
     "name": "stdout",
     "output_type": "stream",
     "text": [
      "Welcome, to Taipei\n",
      "  welcome, to taipei\n",
      "  Wxlcomx, to Taipxi\n",
      "['  Welcome', ' to Taipei']\n",
      "True\n",
      "HI!  Welcome, to Taipei\n",
      "3\n",
      "  Welcome, to Taipei  Welcome, to Taipei  Welcome, to Taipei\n"
     ]
    }
   ],
   "source": [
    "x='HI!'\n",
    "A=\"  Welcome, to Taipei\"\n",
    "print(A.strip())#消除字串空白\n",
    "print(A.lower())#小寫\n",
    "print(A.replace(\"e\",\"x\"))#取代\n",
    "print(A.split(',')) #以逗點為界分割字串\n",
    "S= \"come\" in A #檢查come是否在A字串內\n",
    "print(S)\n",
    "print(x+A)\n",
    "print(S*3) #將S這個布林值(1個布林判斷)*3\n",
    "print(A*3)"
   ]
  },
  {
   "cell_type": "code",
   "execution_count": 37,
   "id": "2bb39e64-0ee1-4b56-b502-d45c3d94c186",
   "metadata": {},
   "outputs": [
    {
     "name": "stdout",
     "output_type": "stream",
     "text": [
      "False\n"
     ]
    }
   ],
   "source": [
    "a= 'me'\n",
    "s='hi'\n",
    "t='my'\n",
    "u='friend'\n",
    "print('my'in a)"
   ]
  },
  {
   "cell_type": "code",
   "execution_count": 11,
   "id": "42ec32c0-069e-42e0-92e6-443e07467f2c",
   "metadata": {},
   "outputs": [
    {
     "data": {
      "text/plain": [
       "'∑'"
      ]
     },
     "execution_count": 11,
     "metadata": {},
     "output_type": "execute_result"
    }
   ],
   "source": [
    "chr(8721) #整數轉成字元"
   ]
  },
  {
   "cell_type": "code",
   "execution_count": 44,
   "id": "db76d249-a4a6-4957-b34d-386fc9a27a7c",
   "metadata": {},
   "outputs": [
    {
     "name": "stdout",
     "output_type": "stream",
     "text": [
      "這是一個自訂物件\n",
      "<__main__.MyClass object at 0x000002441F23D010>\n"
     ]
    }
   ],
   "source": [
    "#傳回物件的字串表示法\n",
    "class MyClass:\n",
    "    def __str__(self):\n",
    "        return \"這是一個自訂物件\"\n",
    "\n",
    "obj = MyClass()\n",
    "print(str(obj))  # 這是一個自訂物件\n",
    "print(repr(obj)) # <__main__.MyClass object at 0x7f8e4b0d2a30>"
   ]
  },
  {
   "cell_type": "code",
   "execution_count": 47,
   "id": "5bc7b3c1-52cc-4070-9434-42bf062bbc7a",
   "metadata": {},
   "outputs": [
    {
     "name": "stdout",
     "output_type": "stream",
     "text": [
      "True\n",
      "False\n",
      "True\n"
     ]
    }
   ],
   "source": [
    "print(23>12)\n",
    "print(5<3)\n",
    "print(1==0.1*10)"
   ]
  },
  {
   "cell_type": "code",
   "execution_count": 49,
   "id": "f9d8f510-a207-4fb8-96b9-e7edd8c0a5ea",
   "metadata": {},
   "outputs": [
    {
     "name": "stdout",
     "output_type": "stream",
     "text": [
      "False\n",
      "False\n",
      "True\n",
      "True\n",
      "False\n"
     ]
    }
   ],
   "source": [
    "print(bool(5<3)) #透過bool對任何運算式取布林值\n",
    "print(bool(0)) #零的布林為false,任何數值布林為true\n",
    "print(bool(1))\n",
    "print(bool('hi'))#字串布林為true,空字串布林為false\n",
    "print(bool(''))"
   ]
  },
  {
   "cell_type": "code",
   "execution_count": 52,
   "id": "b51bac71-397c-4cdb-b185-d3caef44d7c0",
   "metadata": {},
   "outputs": [
    {
     "name": "stdout",
     "output_type": "stream",
     "text": [
      "True\n"
     ]
    }
   ],
   "source": [
    "def bool_func(): #定義函式\n",
    "    return True\n",
    "if bool_func():\n",
    "    print(\"True\")\n",
    "else:\n",
    " print(\"False\")"
   ]
  },
  {
   "cell_type": "code",
   "execution_count": 57,
   "id": "060eb70b-5de1-4890-a5a0-b8c58a92f2d2",
   "metadata": {},
   "outputs": [
    {
     "name": "stdout",
     "output_type": "stream",
     "text": [
      "False\n"
     ]
    }
   ],
   "source": [
    "x= 0.5\n",
    "print(isinstance(x,int)) #INSINSTANCE判斷是否為整數"
   ]
  },
  {
   "cell_type": "code",
   "execution_count": 12,
   "id": "c8cb0670-a770-423b-baef-f6fd7f4fc5f6",
   "metadata": {},
   "outputs": [
    {
     "data": {
      "text/plain": [
       "35"
      ]
     },
     "execution_count": 12,
     "metadata": {},
     "output_type": "execute_result"
    }
   ],
   "source": [
    "ord('#') #字元轉成整數"
   ]
  },
  {
   "cell_type": "code",
   "execution_count": 13,
   "id": "b70be68c-7831-4cdc-9a4e-07ba91559722",
   "metadata": {},
   "outputs": [
    {
     "data": {
      "text/plain": [
       "4"
      ]
     },
     "execution_count": 13,
     "metadata": {},
     "output_type": "execute_result"
    }
   ],
   "source": [
    "len('yaho')#字串長度"
   ]
  },
  {
   "cell_type": "code",
   "execution_count": 14,
   "id": "1ea03f1f-a24c-4cd2-8c90-239c68a3ca7c",
   "metadata": {},
   "outputs": [
    {
     "data": {
      "text/plain": [
       "'45.6'"
      ]
     },
     "execution_count": 14,
     "metadata": {},
     "output_type": "execute_result"
    }
   ],
   "source": [
    "str(45.6) #傳回物件的字串表示法"
   ]
  },
  {
   "cell_type": "code",
   "execution_count": 16,
   "id": "a07cad61-6d17-4bb7-a46c-d116790c5b60",
   "metadata": {},
   "outputs": [
    {
     "name": "stdout",
     "output_type": "stream",
     "text": [
      "False\n",
      "True\n",
      "True\n",
      "True\n"
     ]
    }
   ],
   "source": [
    "print(True==0) #邏輯運算判斷,不是指定敘述\n",
    "print(True)\n",
    "print(True==1)#邏輯運算判斷,不是指定敘述\n",
    "print(True)"
   ]
  },
  {
   "cell_type": "code",
   "execution_count": 26,
   "id": "0cd45a23-10c5-4200-be63-87d3674e19df",
   "metadata": {},
   "outputs": [
    {
     "ename": "SyntaxError",
     "evalue": "cannot assign to False (3570620604.py, line 1)",
     "output_type": "error",
     "traceback": [
      "\u001b[1;36m  Cell \u001b[1;32mIn[26], line 1\u001b[1;36m\u001b[0m\n\u001b[1;33m    False=10 #False無法被指定\u001b[0m\n\u001b[1;37m    ^\u001b[0m\n\u001b[1;31mSyntaxError\u001b[0m\u001b[1;31m:\u001b[0m cannot assign to False\n"
     ]
    }
   ],
   "source": [
    "False=10 #False無法被指定"
   ]
  },
  {
   "cell_type": "code",
   "execution_count": 20,
   "id": "53960f29-9b80-4833-b136-cda8e296b721",
   "metadata": {},
   "outputs": [
    {
     "name": "stdout",
     "output_type": "stream",
     "text": [
      "<class 'bool'>\n",
      "25\n"
     ]
    }
   ],
   "source": [
    "print(type(False))\n",
    "bool=25\n",
    "print(bool) #bool可以被指定"
   ]
  },
  {
   "cell_type": "code",
   "execution_count": 25,
   "id": "ec6132f5-3812-46b8-a9b8-4a2c2f81c57f",
   "metadata": {},
   "outputs": [
    {
     "ename": "SyntaxError",
     "evalue": "cannot assign to True (3830672903.py, line 1)",
     "output_type": "error",
     "traceback": [
      "\u001b[1;36m  Cell \u001b[1;32mIn[25], line 1\u001b[1;36m\u001b[0m\n\u001b[1;33m    True=5 #True無法被指定\u001b[0m\n\u001b[1;37m    ^\u001b[0m\n\u001b[1;31mSyntaxError\u001b[0m\u001b[1;31m:\u001b[0m cannot assign to True\n"
     ]
    }
   ],
   "source": [
    "True=5 #True無法被指定"
   ]
  },
  {
   "cell_type": "code",
   "execution_count": null,
   "id": "c1551b6e-ec2f-4447-8a7a-dfea6a6c0cc0",
   "metadata": {},
   "outputs": [],
   "source": []
  }
 ],
 "metadata": {
  "kernelspec": {
   "display_name": "Python 3 (ipykernel)",
   "language": "python",
   "name": "python3"
  },
  "language_info": {
   "codemirror_mode": {
    "name": "ipython",
    "version": 3
   },
   "file_extension": ".py",
   "mimetype": "text/x-python",
   "name": "python",
   "nbconvert_exporter": "python",
   "pygments_lexer": "ipython3",
   "version": "3.12.7"
  }
 },
 "nbformat": 4,
 "nbformat_minor": 5
}
