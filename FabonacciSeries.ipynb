{
 "cells": [
  {
   "cell_type": "code",
   "execution_count": 24,
   "id": "5f299351-15ec-409b-9283-56f6c12711f4",
   "metadata": {},
   "outputs": [
    {
     "name": "stdout",
     "output_type": "stream",
     "text": [
      "1\n",
      "1\n"
     ]
    },
    {
     "name": "stdin",
     "output_type": "stream",
     "text": [
      "n= 2\n"
     ]
    },
    {
     "name": "stdout",
     "output_type": "stream",
     "text": [
      "2\n"
     ]
    }
   ],
   "source": [
    "a_p=1 #a項之前的數值\n",
    "a=1\n",
    "print(a_p)\n",
    "print(a)\n",
    "n=input(\"n=\")\n",
    "for _ in range(1,int(n)):\n",
    "   a_n = a_p + a #a項之後的數值,其實就像一個預測的模型\n",
    "   print(a_n)\n",
    "   a_p = a\n",
    "   a = a_n #迴路的最後一個指令"
   ]
  },
  {
   "cell_type": "code",
   "execution_count": null,
   "id": "3796c47f-66d6-4e02-8201-ceeb510d6aea",
   "metadata": {},
   "outputs": [],
   "source": []
  },
  {
   "cell_type": "code",
   "execution_count": null,
   "id": "153489f8-450e-42e0-abc9-7e6becb7a685",
   "metadata": {},
   "outputs": [],
   "source": []
  }
 ],
 "metadata": {
  "kernelspec": {
   "display_name": "Python 3 (ipykernel)",
   "language": "python",
   "name": "python3"
  },
  "language_info": {
   "codemirror_mode": {
    "name": "ipython",
    "version": 3
   },
   "file_extension": ".py",
   "mimetype": "text/x-python",
   "name": "python",
   "nbconvert_exporter": "python",
   "pygments_lexer": "ipython3",
   "version": "3.12.7"
  }
 },
 "nbformat": 4,
 "nbformat_minor": 5
}
