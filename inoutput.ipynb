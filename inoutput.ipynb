{
 "cells": [
  {
   "cell_type": "code",
   "execution_count": 5,
   "id": "fb3736fb-6baf-47d6-82ce-b1a190374340",
   "metadata": {},
   "outputs": [
    {
     "name": "stdin",
     "output_type": "stream",
     "text": [
      "Enter name 456\n"
     ]
    },
    {
     "name": "stdout",
     "output_type": "stream",
     "text": [
      "User name:456\n"
     ]
    }
   ],
   "source": [
    "#將輸入資訊輸出\n",
    "name=input(\"Enter name\")\n",
    "print('User name:' + name)"
   ]
  },
  {
   "cell_type": "code",
   "execution_count": 27,
   "id": "96c35525-227e-40c5-8f10-767d757477d8",
   "metadata": {},
   "outputs": [
    {
     "name": "stdout",
     "output_type": "stream",
     "text": [
      "通常我們一般使用的方法都是先使用虛擬光碟掛載映像檔。例如是 E 槽。\n",
      "這裡我們以朱紅雪作示範。遊戲資料夾名稱預設為 ED4，放置在C槽。\n",
      "映像檔為Cue/Bin格式，檔名為〈ED4.cue & ED4.bin〉。\n",
      "\n",
      "◎指令類似如下：(括號內看情況)\n",
      "\n",
      "mount c c:\\ED4\n",
      "mount d e:\\ -t cdrom (-usecd 0 -ioct1)\n",
      "c:\n",
      "play\n",
      "\n",
      "別忘了指定一個空間為DOSBOX的磁碟機讓遊戲可以安裝\n",
      "mount e c:\\dosgame\n",
      "\n",
      "\n",
      "難得玩一下dos時代的遊戲，結果視窗大小小得靠北\n",
      "來調整\n",
      "alt+enter直接改螢幕解析度變成600*480\n",
      "東西全跑掉了\n",
      "\n",
      "我要的是在1920*1080下遊玩，且能自由移出入滑鼠、顯示畫面依照比例放大\n",
      "\n",
      "參考網路教學後，dosbox的設定在安裝的資料夾中由dosbox-0.74-3.conf（依版本會有不同）調整\n",
      "\n",
      "在[sdl]的部份\n",
      "將\n",
      "fullresolution=desktop#1920x1080\n",
      "windowresolution=1024x768#original\n",
      "output=opengl\n",
      "autolock=false\n",
      "sensitivity=100\n",
      "與原本的進行置換\n",
      "\n",
      "如想像一般的運行了\n",
      "\n",
      "耶\n",
      "\n",
      "\n",
      "\n"
     ]
    }
   ],
   "source": [
    "#從檔案輸入(讀取編碼預設為UNICODE)\n",
    "f=open(\"datafile.txt\",encoding='UTF-8') #以UTF-8編碼讀取同路徑資料夾內的datafile.txt\n",
    "print(f.read()) #讀取整份資料\n",
    "print(f.read(3)) #讀取3個字\n",
    "print(f.readline()) #讀取一行\n",
    "f.close()"
   ]
  },
  {
   "cell_type": "code",
   "execution_count": 24,
   "id": "2b57ba07-6d04-41e4-b1f5-af5496510336",
   "metadata": {},
   "outputs": [
    {
     "name": "stdout",
     "output_type": "stream",
     "text": [
      "通常我\n"
     ]
    }
   ],
   "source": [
    "#從檔案輸入(讀取編碼預設為UNICODE)\n",
    "f=open(\"datafile.txt\",encoding='UTF-8') #以UTF-8編碼讀取同路徑資料夾內的datafile.txt\n",
    "print(f.read(3))                        #讀取3個字\n",
    "f.close()"
   ]
  },
  {
   "cell_type": "code",
   "execution_count": 25,
   "id": "4334fd57-6fdd-48fa-b862-05161e149ea8",
   "metadata": {},
   "outputs": [
    {
     "name": "stdout",
     "output_type": "stream",
     "text": [
      "通常我們一般使用的方法都是先使用虛擬光碟掛載映像檔。例如是 E 槽。\n",
      "\n"
     ]
    }
   ],
   "source": [
    "#從檔案輸入(讀取編碼預設為UNICODE)\n",
    "f=open(\"datafile.txt\",encoding='UTF-8') #以UTF-8編碼讀取同路徑資料夾內的datafile.txt\n",
    "print(f.readline())\n",
    "f.close()"
   ]
  },
  {
   "cell_type": "code",
   "execution_count": 28,
   "id": "7ca0d605-5317-4606-a95c-3ba1ae1741e3",
   "metadata": {},
   "outputs": [
    {
     "name": "stdout",
     "output_type": "stream",
     "text": [
      "通常我們一般使用的方法都是先使用虛擬光碟掛載映像檔。例如是 E 槽。\n",
      "這裡我們以朱紅雪作示範。遊戲資料夾名稱預設為 ED4，放置在C槽。\n",
      "映像檔為Cue/Bin格式，檔名為〈ED4.cue & ED4.bin〉。\n",
      "\n",
      "◎指令類似如下：(括號內看情況)\n",
      "\n",
      "mount c c:\\ED4\n",
      "mount d e:\\ -t cdrom (-usecd 0 -ioct1)\n",
      "c:\n",
      "play\n",
      "\n",
      "別忘了指定一個空間為DOSBOX的磁碟機讓遊戲可以安裝\n",
      "mount e c:\\dosgame\n",
      "\n",
      "\n",
      "難得玩一下dos時代的遊戲，結果視窗大小小得靠北\n",
      "來調整\n",
      "alt+enter直接改螢幕解析度變成600*480\n",
      "東西全跑掉了\n",
      "\n",
      "我要的是在1920*1080下遊玩，且能自由移出入滑鼠、顯示畫面依照比例放大\n",
      "\n",
      "參考網路教學後，dosbox的設定在安裝的資料夾中由dosbox-0.74-3.conf（依版本會有不同）調整\n",
      "\n",
      "在[sdl]的部份\n",
      "將\n",
      "fullresolution=desktop#1920x1080\n",
      "windowresolution=1024x768#original\n",
      "output=opengl\n",
      "autolock=false\n",
      "sensitivity=100\n",
      "與原本的進行置換\n",
      "\n",
      "如想像一般的運行了\n",
      "\n",
      "耶\n",
      "\n",
      "通常我\n",
      "們一般使用的方法都是先使用虛擬光碟掛載映像檔。例如是 E 槽。\n",
      "\n"
     ]
    }
   ],
   "source": [
    "#從檔案輸入(讀取編碼預設為UNICODE)\n",
    "f=open(\"datafile.txt\",encoding='UTF-8') #以UTF-8編碼讀取同路徑資料夾內的datafile.txt\n",
    "print(f.read()) #讀取整份資料\n",
    "f.seek(0)       #移動回開頭\n",
    "print(f.read(3)) #讀取3個字\n",
    "print(f.readline()) #讀取一行\n",
    "f.close()"
   ]
  },
  {
   "cell_type": "code",
   "execution_count": 32,
   "id": "41816d81-3e17-458d-8760-a4a5d0ef169c",
   "metadata": {},
   "outputs": [
    {
     "name": "stdout",
     "output_type": "stream",
     "text": [
      "通常我們一般使用的方法都是先使用虛擬光碟掛載映像檔。例如是 E 槽。\n",
      "\n",
      "這裡我們以朱紅雪作示範。遊戲資料夾名稱預設為 ED4，放置在C槽。\n",
      "\n",
      "映像檔為Cue/Bin格式，檔名為〈ED4.cue & ED4.bin〉。\n",
      "\n",
      "\n",
      "\n",
      "◎指令類似如下：(括號內看情況)\n",
      "\n",
      "\n",
      "\n",
      "mount c c:\\ED4\n",
      "\n",
      "mount d e:\\ -t cdrom (-usecd 0 -ioct1)\n",
      "\n",
      "c:\n",
      "\n",
      "play\n",
      "\n",
      "\n",
      "\n",
      "別忘了指定一個空間為DOSBOX的磁碟機讓遊戲可以安裝\n",
      "\n",
      "mount e c:\\dosgame\n",
      "\n",
      "\n",
      "\n",
      "\n",
      "\n",
      "難得玩一下dos時代的遊戲，結果視窗大小小得靠北\n",
      "\n",
      "來調整\n",
      "\n",
      "alt+enter直接改螢幕解析度變成600*480\n",
      "\n",
      "東西全跑掉了\n",
      "\n",
      "\n",
      "\n",
      "我要的是在1920*1080下遊玩，且能自由移出入滑鼠、顯示畫面依照比例放大\n",
      "\n",
      "\n",
      "\n",
      "參考網路教學後，dosbox的設定在安裝的資料夾中由dosbox-0.74-3.conf（依版本會有不同）調整\n",
      "\n",
      "\n",
      "\n",
      "在[sdl]的部份\n",
      "\n",
      "將\n",
      "\n",
      "fullresolution=desktop#1920x1080\n",
      "\n",
      "windowresolution=1024x768#original\n",
      "\n",
      "output=opengl\n",
      "\n",
      "autolock=false\n",
      "\n",
      "sensitivity=100\n",
      "\n",
      "與原本的進行置換\n",
      "\n",
      "\n",
      "\n",
      "如想像一般的運行了\n",
      "\n",
      "\n",
      "\n",
      "耶\n",
      "\n"
     ]
    }
   ],
   "source": [
    "f=open(\"datafile.txt\",encoding='UTF-8') \n",
    "for x in f:\n",
    "    print(x)\n",
    "f.close()"
   ]
  },
  {
   "cell_type": "code",
   "execution_count": 33,
   "id": "93daa176-3b7b-4f4d-8137-5dffc2912ac2",
   "metadata": {},
   "outputs": [
    {
     "name": "stdout",
     "output_type": "stream",
     "text": [
      "通常我們一般使用的方法都是先使用虛擬光碟掛載映像檔。例如是 E 槽。\n",
      "\n",
      "這裡我們以朱紅雪作示範。遊戲資料夾名稱預設為 ED4，放置在C槽。\n",
      "\n",
      "映像檔為Cue/Bin格式，檔名為〈ED4.cue & ED4.bin〉。\n",
      "\n",
      "\n",
      "\n",
      "◎指令類似如下：(括號內看情況)\n",
      "\n",
      "\n",
      "\n",
      "mount c c:\\ED4\n",
      "\n",
      "mount d e:\\ -t cdrom (-usecd 0 -ioct1)\n",
      "\n",
      "c:\n",
      "\n",
      "play\n",
      "\n",
      "\n",
      "\n",
      "別忘了指定一個空間為DOSBOX的磁碟機讓遊戲可以安裝\n",
      "\n",
      "mount e c:\\dosgame\n",
      "\n",
      "\n",
      "\n",
      "\n",
      "\n",
      "難得玩一下dos時代的遊戲，結果視窗大小小得靠北\n",
      "\n",
      "來調整\n",
      "\n",
      "alt+enter直接改螢幕解析度變成600*480\n",
      "\n",
      "東西全跑掉了\n",
      "\n",
      "\n",
      "\n",
      "我要的是在1920*1080下遊玩，且能自由移出入滑鼠、顯示畫面依照比例放大\n",
      "\n",
      "\n",
      "\n",
      "參考網路教學後，dosbox的設定在安裝的資料夾中由dosbox-0.74-3.conf（依版本會有不同）調整\n",
      "\n",
      "\n",
      "\n",
      "在[sdl]的部份\n",
      "\n",
      "將\n",
      "\n",
      "fullresolution=desktop#1920x1080\n",
      "\n",
      "windowresolution=1024x768#original\n",
      "\n",
      "output=opengl\n",
      "\n",
      "autolock=false\n",
      "\n",
      "sensitivity=100\n",
      "\n",
      "與原本的進行置換\n",
      "\n",
      "\n",
      "\n",
      "如想像一般的運行了\n",
      "\n",
      "\n",
      "\n",
      "耶\n",
      "\n"
     ]
    }
   ],
   "source": [
    "#自動管理檔案的開啟與關閉\n",
    "#即使程式發生錯誤，檔案也會在 with 區塊結束時自動關閉，\n",
    "#避免遺漏 f.close() 的問題。\n",
    "with open(\"datafile.txt\", encoding='UTF-8') as f:\n",
    "    for x in f:\n",
    "        print(x)  # 逐行輸出"
   ]
  },
  {
   "cell_type": "code",
   "execution_count": 36,
   "id": "4a48c611-7ca3-4e20-8b4c-9ea4aa789a36",
   "metadata": {},
   "outputs": [
    {
     "ename": "FileExistsError",
     "evalue": "[Errno 17] File exists: 'datafile.txt'",
     "output_type": "error",
     "traceback": [
      "\u001b[1;31m---------------------------------------------------------------------------\u001b[0m",
      "\u001b[1;31mFileExistsError\u001b[0m                           Traceback (most recent call last)",
      "Cell \u001b[1;32mIn[36], line 1\u001b[0m\n\u001b[1;32m----> 1\u001b[0m f\u001b[38;5;241m=\u001b[39m\u001b[38;5;28mopen\u001b[39m(\u001b[38;5;124m\"\u001b[39m\u001b[38;5;124mdatafile.txt\u001b[39m\u001b[38;5;124m\"\u001b[39m,\u001b[38;5;124m\"\u001b[39m\u001b[38;5;124mx\u001b[39m\u001b[38;5;124m\"\u001b[39m) \u001b[38;5;66;03m#參數x在檔案存在情況下會傳回錯誤\u001b[39;00m\n\u001b[0;32m      2\u001b[0m f\u001b[38;5;241m.\u001b[39mclose()\n",
      "File \u001b[1;32mC:\\ANACONDA\\Lib\\site-packages\\IPython\\core\\interactiveshell.py:324\u001b[0m, in \u001b[0;36m_modified_open\u001b[1;34m(file, *args, **kwargs)\u001b[0m\n\u001b[0;32m    317\u001b[0m \u001b[38;5;28;01mif\u001b[39;00m file \u001b[38;5;129;01min\u001b[39;00m {\u001b[38;5;241m0\u001b[39m, \u001b[38;5;241m1\u001b[39m, \u001b[38;5;241m2\u001b[39m}:\n\u001b[0;32m    318\u001b[0m     \u001b[38;5;28;01mraise\u001b[39;00m \u001b[38;5;167;01mValueError\u001b[39;00m(\n\u001b[0;32m    319\u001b[0m         \u001b[38;5;124mf\u001b[39m\u001b[38;5;124m\"\u001b[39m\u001b[38;5;124mIPython won\u001b[39m\u001b[38;5;124m'\u001b[39m\u001b[38;5;124mt let you open fd=\u001b[39m\u001b[38;5;132;01m{\u001b[39;00mfile\u001b[38;5;132;01m}\u001b[39;00m\u001b[38;5;124m by default \u001b[39m\u001b[38;5;124m\"\u001b[39m\n\u001b[0;32m    320\u001b[0m         \u001b[38;5;124m\"\u001b[39m\u001b[38;5;124mas it is likely to crash IPython. If you know what you are doing, \u001b[39m\u001b[38;5;124m\"\u001b[39m\n\u001b[0;32m    321\u001b[0m         \u001b[38;5;124m\"\u001b[39m\u001b[38;5;124myou can use builtins\u001b[39m\u001b[38;5;124m'\u001b[39m\u001b[38;5;124m open.\u001b[39m\u001b[38;5;124m\"\u001b[39m\n\u001b[0;32m    322\u001b[0m     )\n\u001b[1;32m--> 324\u001b[0m \u001b[38;5;28;01mreturn\u001b[39;00m io_open(file, \u001b[38;5;241m*\u001b[39margs, \u001b[38;5;241m*\u001b[39m\u001b[38;5;241m*\u001b[39mkwargs)\n",
      "\u001b[1;31mFileExistsError\u001b[0m: [Errno 17] File exists: 'datafile.txt'"
     ]
    }
   ],
   "source": [
    "f=open(\"datafile.txt\",\"x\") #參數x在檔案存在情況下會傳回錯誤\n",
    "f.close()"
   ]
  },
  {
   "cell_type": "code",
   "execution_count": 37,
   "id": "92220b7f-c17c-427b-9b90-6c78aef9b267",
   "metadata": {},
   "outputs": [],
   "source": [
    "#建立新檔案\n",
    "f=open(\"DT.txt\",\"a\") #在檔案不存在時建立新檔案\n",
    "f.close()\n",
    "f=open(\"DT2.txt\",\"w\")#在檔案不存在時建立新檔案\n",
    "f.close() "
   ]
  },
  {
   "cell_type": "code",
   "execution_count": 39,
   "id": "3b3d16ec-ed90-4063-88d4-a47d014ff008",
   "metadata": {},
   "outputs": [
    {
     "name": "stdout",
     "output_type": "stream",
     "text": [
      "hellno!hellno!\n"
     ]
    }
   ],
   "source": [
    "#將資料寫入檔案\n",
    "f=open(\"DT3.txt\",\"a\")\n",
    "f.write(\"hellno!\")\n",
    "f=open(\"DT3.txt\",\"r\")\n",
    "print(f.read())\n",
    "f.close()"
   ]
  },
  {
   "cell_type": "code",
   "execution_count": 40,
   "id": "c0a34fcc-cb23-4480-a0da-ac53c6bbe717",
   "metadata": {},
   "outputs": [],
   "source": [
    "#檔案刪除\n",
    "import os #載入os套件\n",
    "os.remove(\"DT.txt\") #刪除檔案\n",
    "\n",
    "if os.path.exists(\"DT2.txt\"):\n",
    "    os.remove(\"DT2.txt\")"
   ]
  },
  {
   "cell_type": "code",
   "execution_count": 43,
   "id": "1091d1d0-7ac1-4165-991c-e3d7bfb4136a",
   "metadata": {},
   "outputs": [
    {
     "name": "stdout",
     "output_type": "stream",
     "text": [
      "編號:101(年齡=35歲,體重=65公斤)\n"
     ]
    }
   ],
   "source": [
    "print(\"編號:{1}(年齡={2}歲,體重={0}公斤)\".format(65,\"101\",35))"
   ]
  },
  {
   "cell_type": "code",
   "execution_count": null,
   "id": "5b5f9abc-32a4-4d1a-ae0d-01e2df974967",
   "metadata": {},
   "outputs": [],
   "source": []
  }
 ],
 "metadata": {
  "kernelspec": {
   "display_name": "Python 3 (ipykernel)",
   "language": "python",
   "name": "python3"
  },
  "language_info": {
   "codemirror_mode": {
    "name": "ipython",
    "version": 3
   },
   "file_extension": ".py",
   "mimetype": "text/x-python",
   "name": "python",
   "nbconvert_exporter": "python",
   "pygments_lexer": "ipython3",
   "version": "3.12.7"
  }
 },
 "nbformat": 4,
 "nbformat_minor": 5
}
