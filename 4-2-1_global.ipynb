{
 "cells": [
  {
   "cell_type": "code",
   "execution_count": 2,
   "id": "921476f2-c283-4117-905b-1a551c7f53ed",
   "metadata": {},
   "outputs": [
    {
     "name": "stdout",
     "output_type": "stream",
     "text": [
      "output from afunchi\n"
     ]
    }
   ],
   "source": [
    "# 全域變數與global關鍵字\n",
    "# 變數x在一個程式中被使用，萬一副程式有一個同名稱變數會？\n",
    "x='hi' #全域變數\n",
    "def afunc():\n",
    "    print('output from afunc'+x) #直接使用全域變數\n",
    "    \n",
    "afunc()"
   ]
  },
  {
   "cell_type": "code",
   "execution_count": 5,
   "id": "a71b058e-4aa3-4ff4-89fd-83ad618c6694",
   "metadata": {},
   "outputs": [
    {
     "name": "stdout",
     "output_type": "stream",
     "text": [
      "x ishi2\n"
     ]
    }
   ],
   "source": [
    "def afunc():\n",
    "    global x #宣告x是全域變數\n",
    "    x='hi2'#修改全域變數x\n",
    "\n",
    "afunc()\n",
    "\n",
    "print('x is'+x)"
   ]
  },
  {
   "cell_type": "code",
   "execution_count": 6,
   "id": "9a770393-b0cb-41b7-a03d-03edea4e8a6a",
   "metadata": {},
   "outputs": [
    {
     "name": "stdout",
     "output_type": "stream",
     "text": [
      "x ishi3\n"
     ]
    }
   ],
   "source": [
    "x='hello from main' #全域變數\n",
    "def afunc():\n",
    "    global x #宣告x是全域變數\n",
    "    x='hi3'#修改全域變數x\n",
    "\n",
    "afunc()\n",
    "print (\"x is\"+x)"
   ]
  },
  {
   "cell_type": "code",
   "execution_count": 1,
   "id": "14ed7ff0-d0d1-4137-b4c6-97fb9413949e",
   "metadata": {},
   "outputs": [
    {
     "name": "stdout",
     "output_type": "stream",
     "text": [
      "p= 3\n",
      "3\n",
      "2\n"
     ]
    }
   ],
   "source": [
    "def a(p):\n",
    "    p=p+1\n",
    "    print('p=',p)\n",
    "    return p\n",
    "\n",
    "x=2\n",
    "print(a(x))\n",
    "print(x)"
   ]
  },
  {
   "cell_type": "code",
   "execution_count": 4,
   "id": "d00a058c-0c51-41d8-8f14-6d21f2d20586",
   "metadata": {},
   "outputs": [
    {
     "name": "stdout",
     "output_type": "stream",
     "text": [
      "local x= 3\n",
      "2\n",
      "2\n"
     ]
    }
   ],
   "source": [
    "def a(p):\n",
    "    x=p+1\n",
    "    print('local x=',x)\n",
    "    return p\n",
    "\n",
    "x=2\n",
    "print(a(x))\n",
    "print(x)"
   ]
  },
  {
   "cell_type": "code",
   "execution_count": 2,
   "id": "4a518e4b-90f2-47de-8abe-e4a180fd4bc2",
   "metadata": {},
   "outputs": [
    {
     "name": "stdout",
     "output_type": "stream",
     "text": [
      "output from afuncHI!\n"
     ]
    }
   ],
   "source": [
    "x='HI!'\n",
    "def afunc():\n",
    "    print('output from afunc'+x)\n",
    "afunc()"
   ]
  },
  {
   "cell_type": "code",
   "execution_count": 5,
   "id": "553a969b-c896-435d-8e9e-5202ad3cc57c",
   "metadata": {},
   "outputs": [
    {
     "name": "stdout",
     "output_type": "stream",
     "text": [
      "x ishi\n"
     ]
    }
   ],
   "source": [
    "def afunc():\n",
    "    global x\n",
    "    x='hi'\n",
    "afunc()\n",
    "print('x is'+x)"
   ]
  },
  {
   "cell_type": "code",
   "execution_count": 4,
   "id": "a2d3ee1e-b1ea-4758-9b5f-d71a9bda12c5",
   "metadata": {},
   "outputs": [
    {
     "name": "stdout",
     "output_type": "stream",
     "text": [
      "x ishi\n"
     ]
    }
   ],
   "source": [
    "x='hello from main'\n",
    "def afunc():\n",
    "    global x\n",
    "    x='hi'\n",
    "\n",
    "afunc()\n",
    "print('x is'+x)"
   ]
  },
  {
   "cell_type": "code",
   "execution_count": null,
   "id": "ef8e8460-65e6-4bb2-a2f6-fabb943110d8",
   "metadata": {},
   "outputs": [],
   "source": []
  }
 ],
 "metadata": {
  "kernelspec": {
   "display_name": "Python 3 (ipykernel)",
   "language": "python",
   "name": "python3"
  },
  "language_info": {
   "codemirror_mode": {
    "name": "ipython",
    "version": 3
   },
   "file_extension": ".py",
   "mimetype": "text/x-python",
   "name": "python",
   "nbconvert_exporter": "python",
   "pygments_lexer": "ipython3",
   "version": "3.12.7"
  }
 },
 "nbformat": 4,
 "nbformat_minor": 5
}
