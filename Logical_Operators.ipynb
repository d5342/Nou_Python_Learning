{
 "cells": [
  {
   "cell_type": "code",
   "execution_count": 2,
   "id": "e5b59aeb-d214-451a-b183-260c4459b764",
   "metadata": {},
   "outputs": [
    {
     "name": "stdout",
     "output_type": "stream",
     "text": [
      "False\n",
      "True\n"
     ]
    }
   ],
   "source": [
    "#邏輯運算\n",
    "A=12\n",
    "B=13\n",
    "C=12\n",
    "print(A is B)\n",
    "print(A is C)"
   ]
  },
  {
   "cell_type": "code",
   "execution_count": null,
   "id": "02179630-e476-4e93-ae48-5d91eba71b88",
   "metadata": {},
   "outputs": [],
   "source": []
  }
 ],
 "metadata": {
  "kernelspec": {
   "display_name": "Python 3 (ipykernel)",
   "language": "python",
   "name": "python3"
  },
  "language_info": {
   "codemirror_mode": {
    "name": "ipython",
    "version": 3
   },
   "file_extension": ".py",
   "mimetype": "text/x-python",
   "name": "python",
   "nbconvert_exporter": "python",
   "pygments_lexer": "ipython3",
   "version": "3.12.7"
  }
 },
 "nbformat": 4,
 "nbformat_minor": 5
}
