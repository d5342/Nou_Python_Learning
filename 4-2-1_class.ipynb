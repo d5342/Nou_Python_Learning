{
 "cells": [
  {
   "cell_type": "code",
   "execution_count": 1,
   "id": "d93fc7ad-e478-4fe3-b048-ff8b577ff28a",
   "metadata": {},
   "outputs": [
    {
     "name": "stdout",
     "output_type": "stream",
     "text": [
      "from myclass\n"
     ]
    }
   ],
   "source": [
    "class myclass: # 建立類別,最簡單的class定義\n",
    "    print('from myclass') #沒有這一行會報錯"
   ]
  },
  {
   "cell_type": "code",
   "execution_count": 7,
   "id": "199035a3-ac77-4066-a68b-602544c2b8c8",
   "metadata": {},
   "outputs": [],
   "source": [
    "# 了解init方法運用\n",
    "class myclass: \n",
    "    def __init__(self): # 沒放self會報錯\n",
    "        print('from init')"
   ]
  },
  {
   "cell_type": "code",
   "execution_count": 8,
   "id": "73015838-54dc-472e-b0f3-e8bc24a2048e",
   "metadata": {},
   "outputs": [
    {
     "name": "stdout",
     "output_type": "stream",
     "text": [
      "from init\n"
     ]
    }
   ],
   "source": [
    "A=myclass() #宣告物件A的類別為myclass"
   ]
  },
  {
   "cell_type": "code",
   "execution_count": 10,
   "id": "285dc271-a06f-4bde-882a-2100038dab3c",
   "metadata": {},
   "outputs": [],
   "source": [
    "class myclass: # 有資料屬性的類別\n",
    "    def __init__(self,x,y):\n",
    "        self.a=x\n",
    "        self.b=y"
   ]
  },
  {
   "cell_type": "code",
   "execution_count": 11,
   "id": "6d13a044-a20d-421a-bb4f-afe11ee40285",
   "metadata": {},
   "outputs": [],
   "source": [
    "A=myclass(2,'H')"
   ]
  },
  {
   "cell_type": "code",
   "execution_count": 12,
   "id": "db31edb4-c19e-4622-b172-5764bfae347e",
   "metadata": {},
   "outputs": [
    {
     "name": "stdout",
     "output_type": "stream",
     "text": [
      "2 H\n"
     ]
    }
   ],
   "source": [
    "print(A.a,A.b)"
   ]
  },
  {
   "cell_type": "code",
   "execution_count": 13,
   "id": "8c1abe8a-296e-4795-8713-691884495ee7",
   "metadata": {},
   "outputs": [
    {
     "name": "stdout",
     "output_type": "stream",
     "text": [
      "Tom\n"
     ]
    }
   ],
   "source": [
    "class student:\n",
    "    def __init__(self,names):\n",
    "        self.names=names\n",
    "\n",
    "    def __getitem__(self,index):\n",
    "        return self.names[index]\n",
    "\n",
    "section_A=student(['John','Eric','Tom'])\n",
    "print(section_A[2])"
   ]
  },
  {
   "cell_type": "code",
   "execution_count": 16,
   "id": "23b0c1de-dfba-43a6-b735-e79a5f862ff4",
   "metadata": {},
   "outputs": [
    {
     "name": "stdout",
     "output_type": "stream",
     "text": [
      "white\n",
      "green\n",
      "0\n",
      "2\n"
     ]
    }
   ],
   "source": [
    "class mylist:\n",
    "    def __init__(self,items):\n",
    "        self.items=items\n",
    "\n",
    "    def __getitem__(self,index):\n",
    "        if isinstance(index,int):\n",
    "            return self.items[index]\n",
    "        elif isinstance(index,str):\n",
    "            return self.items.index(index)\n",
    "        else:\n",
    "            raise TypeError('error: Invalid Argument Type')\n",
    "\n",
    "my_list=mylist(['white','blue','green','black'])\n",
    "\n",
    "# indexing with integer keys\n",
    "print(my_list[0])\n",
    "print(my_list[2])\n",
    "\n",
    "# Indexing with string keys\n",
    "print(my_list['white'])\n",
    "print(my_list['green'])"
   ]
  },
  {
   "cell_type": "code",
   "execution_count": 3,
   "id": "0ebbaa4f-231d-43fa-b1e3-235fb6aeba3c",
   "metadata": {},
   "outputs": [
    {
     "name": "stdout",
     "output_type": "stream",
     "text": [
      "<__main__.myclass object at 0x0000019CFA2DBFE0>\n"
     ]
    }
   ],
   "source": [
    "print(A)"
   ]
  },
  {
   "cell_type": "code",
   "execution_count": 4,
   "id": "439c4e3e-73b1-4724-8a97-09de106af4b7",
   "metadata": {},
   "outputs": [
    {
     "name": "stdout",
     "output_type": "stream",
     "text": [
      "<class '__main__.myclass'>\n"
     ]
    }
   ],
   "source": [
    "print(type(A))"
   ]
  },
  {
   "cell_type": "code",
   "execution_count": 2,
   "id": "4e1e9f74-aaf0-4d22-b890-22a3d834ff97",
   "metadata": {},
   "outputs": [
    {
     "name": "stdout",
     "output_type": "stream",
     "text": [
      "3\n"
     ]
    }
   ],
   "source": [
    "#類別與物件\n",
    "class myclass: # 建立類別myclass\n",
    "    a = 3  # 類別變數，屬於 myclass的所有物件都可以存取它。\n",
    "\n",
    "\n",
    "B = myclass()# 建立myclass的實例物件,B現在是myclass的一個物件\n",
    "\n",
    "print(B.a)  # 存取物件 B 的屬性 a,結果為3"
   ]
  },
  {
   "cell_type": "code",
   "execution_count": 26,
   "id": "afba03f3-1946-40b3-a498-8e80eedc767b",
   "metadata": {},
   "outputs": [
    {
     "name": "stdout",
     "output_type": "stream",
     "text": [
      "John 36\n"
     ]
    }
   ],
   "source": [
    "# 比較\n",
    "# 類別與一般輸入\n",
    "\n",
    "#內建的__init()__建構函式\n",
    "class friend:# 建立類別\n",
    "    def __init__(self,name,age): # 初始化方法，建立物件時自動執行\n",
    "     self.name=name # 設定物件屬性變數 name\n",
    "     self.age=age  # 設定物件屬性變數 age\n",
    "y=friend('John','36')# 建立friend的實例物件並傳入變數,y現在是friend的一個物件\n",
    "print(y.name,y.age) # 輸出物件實例y的屬性變數"
   ]
  },
  {
   "cell_type": "code",
   "execution_count": 27,
   "id": "b3e226c3-21a6-451e-b021-ba0fe8a712bb",
   "metadata": {},
   "outputs": [
    {
     "name": "stdout",
     "output_type": "stream",
     "text": [
      "John 36\n"
     ]
    }
   ],
   "source": [
    "# 比較\n",
    "# 類別與一般輸入\n",
    "\n",
    "class friend:\n",
    "    pass\n",
    "# 建立物件後手動設定變數\n",
    "p1 = friend()\n",
    "p1.name = \"John\"\n",
    "p1.age = 36\n",
    "print(p1.name,p1.age )"
   ]
  },
  {
   "cell_type": "code",
   "execution_count": 20,
   "id": "4fc67ed7-3de7-4434-bb6c-edbdd627dc9a",
   "metadata": {},
   "outputs": [
    {
     "name": "stdout",
     "output_type": "stream",
     "text": [
      "from friend!\n"
     ]
    }
   ],
   "source": [
    "# 在類別內定義方法(定義在類別中的函式（function）)1\n",
    "class friend:# 建立類別\n",
    "    def __init__(self, name, age):  # 初始化方法，建立物件時自動執行:設定物件變數\n",
    "        self.name = name  # 設定物件變數 name\n",
    "        self.age = age  # 設定物件變數 age\n",
    "\n",
    "    def myfunc(self):  # 類別內的方法\n",
    "        print('from friend!')  # 方法被呼叫時輸出訊息\n",
    "\n",
    "# 創建 friend 類別的物件\n",
    "f = friend('John', 36)\n",
    "\n",
    "# 呼叫 myfunc 方法\n",
    "f.myfunc()  # 輸出: from friend!\n"
   ]
  },
  {
   "cell_type": "code",
   "execution_count": 1,
   "id": "63212033-5e73-410d-8956-f75c5638b1aa",
   "metadata": {},
   "outputs": [
    {
     "name": "stdout",
     "output_type": "stream",
     "text": [
      "My name is Alice and I am 25 years old.\n",
      "My name is Bob and I am 30 years old.\n"
     ]
    }
   ],
   "source": [
    "# 在類別內定義方法(定義在類別中的函式（function）)2\n",
    "class Person:\n",
    "    def __init__(self, name, age):  # 初始化方法（建構函式）:設定物件變數\n",
    "        self.name = name\n",
    "        self.age = age\n",
    "\n",
    "    def introduce(self):  # 類別內的方法\n",
    "        print(f\"My name is {self.name} and I am {self.age} years old.\")\n",
    "\n",
    "# 建立物件\n",
    "p1 = Person(\"Alice\", 25)\n",
    "p2 = Person(\"Bob\", 30)\n",
    "\n",
    "# 呼叫方法\n",
    "p1.introduce()  # 輸出: My name is Alice and I am 25 years old.\n",
    "p2.introduce()  # 輸出: My name is Bob and I am 30 years old.\n"
   ]
  },
  {
   "cell_type": "code",
   "execution_count": 2,
   "id": "62cac6b9-ff0f-4b46-a271-b73c3cd7fe92",
   "metadata": {},
   "outputs": [
    {
     "name": "stdout",
     "output_type": "stream",
     "text": [
      "Charlie deposited 500. New balance: 1500\n",
      "Insufficient funds for Charlie.\n"
     ]
    }
   ],
   "source": [
    "# 在類別內定義方法(定義在類別中的函式（function）)3\n",
    "class BankAccount: #創立BankAccount類別\n",
    "    def __init__(self, owner, balance): #初始化方法（建構函式）:設定物件變數\n",
    "        self.owner = owner\n",
    "        self.balance = balance\n",
    "\n",
    "    def deposit(self, amount):  # 存款方法\n",
    "        self.balance += amount\n",
    "        print(f\"{self.owner} deposited {amount}. New balance: {self.balance}\")\n",
    "\n",
    "    def withdraw(self, amount):  # 提款方法\n",
    "        if self.balance >= amount:\n",
    "            self.balance -= amount\n",
    "            print(f\"{self.owner} withdrew {amount}. New balance: {self.balance}\")\n",
    "        else:\n",
    "            print(f\"Insufficient funds for {self.owner}.\")\n",
    "\n",
    "# 建立銀行帳戶物件\n",
    "account = BankAccount(\"Charlie\", 1000)\n",
    "\n",
    "# 呼叫存款與提款方法\n",
    "account.deposit(500)   # 輸出: Charlie deposited 500. New balance: 1500\n",
    "account.withdraw(2000) # 輸出: Insufficient funds for Charlie.\n"
   ]
  },
  {
   "cell_type": "code",
   "execution_count": 3,
   "id": "746e6472-17a7-4902-b290-15cc6eec7753",
   "metadata": {},
   "outputs": [
    {
     "name": "stdout",
     "output_type": "stream",
     "text": [
      "Student: Alice, ID: S001, School: Python University\n",
      "Student: Bob, ID: S002, School: Python University\n"
     ]
    }
   ],
   "source": [
    "# 在類別內定義方法(定義在類別中的函式（function）)4\n",
    "class Student:\n",
    "    school = \"Python University\"  # 類別變數\n",
    "\n",
    "    def __init__(self, name, student_id):\n",
    "        self.name = name  # 物件變數\n",
    "        self.student_id = student_id  # 物件變數\n",
    "\n",
    "    def show_info(self): #定義方法show_info輸出包含物件變數與類別變數的結果\n",
    "        print(f\"Student: {self.name}, ID: {self.student_id}, School: {Student.school}\")\n",
    "\n",
    "# 建立學生物件\n",
    "s1 = Student(\"Alice\", \"S001\")\n",
    "s2 = Student(\"Bob\", \"S002\")\n",
    "\n",
    "# 呼叫方法\n",
    "s1.show_info()  # 輸出: Student: Alice, ID: S001, School: Python University\n",
    "s2.show_info()  # 輸出: Student: Bob, ID: S002, School: Python University\n"
   ]
  },
  {
   "cell_type": "code",
   "execution_count": 5,
   "id": "5d48b156-5494-4820-ad46-6146be91c62e",
   "metadata": {},
   "outputs": [
    {
     "name": "stdout",
     "output_type": "stream",
     "text": [
      "8\n",
      "This is a math utility class.\n"
     ]
    }
   ],
   "source": [
    "# 課外補充\n",
    "# 裝飾器\n",
    "# 類別方法,使用 @classmethod 裝飾，適用於操作類別變數。\n",
    "# 靜態方法,使用 @staticmethod 裝飾，不需要 self，通常用於獨立的輔助功能。\n",
    "class MathTool:\n",
    "    @staticmethod\n",
    "    def add(a, b):  # 靜態方法\n",
    "        return a + b\n",
    "\n",
    "    @classmethod\n",
    "    def class_info(cls):  # 類別方法\n",
    "        return \"This is a math utility class.\"\n",
    "\n",
    "# 呼叫靜態方法\n",
    "print(MathTool.add(3, 5))  # 輸出: 8\n",
    "\n",
    "# 呼叫類別方法\n",
    "print(MathTool.class_info())  # 輸出: This is a math utility class.\n"
   ]
  },
  {
   "cell_type": "code",
   "execution_count": 28,
   "id": "7431ffba-18b3-4033-8889-501be7e36e0d",
   "metadata": {},
   "outputs": [
    {
     "name": "stdout",
     "output_type": "stream",
     "text": [
      "這是靜態方法，不需要 self！\n",
      "這是類別方法，cls 代表 <class '__main__.MyClass'>\n"
     ]
    }
   ],
   "source": [
    "# 課外補充\n",
    "# 裝飾器\n",
    "class MyClass:\n",
    "    @staticmethod\n",
    "    def static_method():\n",
    "        print(\"這是靜態方法，不需要 self！\")\n",
    "\n",
    "    @classmethod\n",
    "    def class_method(cls):\n",
    "        print(f\"這是類別方法，cls 代表 {cls}\")\n",
    "\n",
    "MyClass.static_method()  # ✅ 可以直接呼叫\n",
    "MyClass.class_method()   # ✅ cls 代表 MyClass\n"
   ]
  },
  {
   "cell_type": "code",
   "execution_count": 7,
   "id": "b0b5c101-9bcd-4d2f-b0be-862c1626283d",
   "metadata": {},
   "outputs": [
    {
     "name": "stdout",
     "output_type": "stream",
     "text": [
      "python大學 Alice S001\n",
      "python大學 Bob S002\n",
      "changed: AI學院\n",
      "changed: AI學院\n"
     ]
    }
   ],
   "source": [
    "# 類別應用範例\n",
    "# 學生管理系統\n",
    "class student:\n",
    "    school='python大學'#類別變數\n",
    "    def __init__(self,name,student_id): #建構函式\n",
    "        self.student_id=student_id\n",
    "        self.name=name #物件變數\n",
    "s1=student('Alice','S001')\n",
    "s2=student('Bob','S002')\n",
    "print(s1.school,s1.name,s1.student_id) #Alice S001\n",
    "print(s2.school,s2.name,s2.student_id) #Bob S002\n",
    "#修改類別變數\n",
    "student.school='AI學院'\n",
    "print('changed:',s1.school)\n",
    "print('changed:',s2.school)"
   ]
  },
  {
   "cell_type": "code",
   "execution_count": 9,
   "id": "9d675037-a7a6-4938-9cd6-e0cbbc4e6be2",
   "metadata": {},
   "outputs": [
    {
     "name": "stdout",
     "output_type": "stream",
     "text": [
      "3\n",
      "Fantasy World\n",
      "Fantasy World\n"
     ]
    }
   ],
   "source": [
    "# 類別應用範例\n",
    "# 遊戲角色管理系統\n",
    "class Player:\n",
    "    game_name = \"Fantasy World\"  # 類別變數 (共享)\n",
    "    player_count = 0  # 記錄玩家數量 (共享)\n",
    "\n",
    "    def __init__(self, name):\n",
    "        self.name = name  # 物件變數 (獨立)\n",
    "        Player.player_count += 1  # 更新玩家數量\n",
    "\n",
    "# 創建三個玩家\n",
    "p1 = Player(\"Alice\")\n",
    "p2 = Player(\"Bob\")\n",
    "p3 = Player(\"Charlie\")\n",
    "\n",
    "print(Player.player_count)  # 3，表示有三個玩家\n",
    "print(p1.game_name)  # Fantasy World\n",
    "print(p2.game_name)  # Fantasy World\n"
   ]
  },
  {
   "cell_type": "code",
   "execution_count": 34,
   "id": "8bcf6307-568d-497c-92fc-2c31ac6bd8b1",
   "metadata": {},
   "outputs": [
    {
     "name": "stdout",
     "output_type": "stream",
     "text": [
      "Student: Alice Wang, Graduation Year: 2023\n",
      "Student: Bob Chen, Graduation Year: 2024\n"
     ]
    }
   ],
   "source": [
    "# 繼承 (Inheritance)\n",
    "\n",
    "# 定義父類別 person\n",
    "class Person:\n",
    "    def __init__(self, fname, lname):\n",
    "        \"\"\"初始化方法，設定名字與姓氏\"\"\"\n",
    "        self.firstname = fname\n",
    "        self.lastname = lname\n",
    "\n",
    "    def printname(self):\n",
    "        \"\"\"輸出全名\"\"\"\n",
    "        print(f\"{self.firstname} {self.lastname}\")\n",
    "\n",
    "# 定義子類別 Student，繼承 Person\n",
    "class Student(Person):\n",
    "    def __init__(self, fname, lname, graduationyear):\n",
    "        \"\"\"初始化方法，除了名字與姓氏，還額外加入畢業年份\"\"\"\n",
    "        super().__init__(fname, lname)  # 呼叫父類別的初始化方法\n",
    "        self.graduationyear = graduationyear  # 設定畢業年份\n",
    "\n",
    "    def get_info(self):\n",
    "        \"\"\"回傳學生完整資訊\"\"\"\n",
    "        return f\"Student: {self.firstname} {self.lastname}, Graduation Year: {self.graduationyear}\"\n",
    "\n",
    "# 建立物件實例\n",
    "s1 = Student(\"Alice\", \"Wang\", 2023)\n",
    "s2 = Student(\"Bob\", \"Chen\", 2024)\n",
    "\n",
    "# 輸出學生資訊\n",
    "print(s1.get_info())  # Student: Alice Wang, Graduation Year: 2023\n",
    "print(s2.get_info())  # Student: Bob Chen, Graduation Year: 2024\n"
   ]
  },
  {
   "cell_type": "code",
   "execution_count": null,
   "id": "00a8afa9-fc76-4377-9c51-386003447f9c",
   "metadata": {},
   "outputs": [],
   "source": []
  }
 ],
 "metadata": {
  "kernelspec": {
   "display_name": "Python 3 (ipykernel)",
   "language": "python",
   "name": "python3"
  },
  "language_info": {
   "codemirror_mode": {
    "name": "ipython",
    "version": 3
   },
   "file_extension": ".py",
   "mimetype": "text/x-python",
   "name": "python",
   "nbconvert_exporter": "python",
   "pygments_lexer": "ipython3",
   "version": "3.12.7"
  }
 },
 "nbformat": 4,
 "nbformat_minor": 5
}
