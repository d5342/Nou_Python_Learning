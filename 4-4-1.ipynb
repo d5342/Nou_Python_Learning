{
 "cells": [
  {
   "cell_type": "code",
   "execution_count": 2,
   "id": "90ca9c1f-3fd2-458d-a3e0-7cf8c9f25303",
   "metadata": {},
   "outputs": [
    {
     "name": "stdout",
     "output_type": "stream",
     "text": [
      "1.26.4\n"
     ]
    }
   ],
   "source": [
    "import numpy as np\n",
    "print(np.__version__) # 顯示Numpy版本\n",
    "\n",
    "arr1=np.array(12) #　填入單一變數，建立0維陣列"
   ]
  },
  {
   "cell_type": "code",
   "execution_count": 2,
   "id": "9aa0edaf-5ba3-4bfc-9056-7587d5a645a5",
   "metadata": {},
   "outputs": [
    {
     "name": "stdout",
     "output_type": "stream",
     "text": [
      "0\n",
      "int32\n",
      "<class 'numpy.ndarray'>\n"
     ]
    }
   ],
   "source": [
    "import numpy as np\n",
    "a= np.array(42)\n",
    "print(a.ndim) # 輸出陣列維度\n",
    "print(a.dtype) # 輸出元素資料類型"
   ]
  },
  {
   "cell_type": "code",
   "execution_count": 15,
   "id": "001116f4-9418-456a-b408-0d2cb8ff4379",
   "metadata": {},
   "outputs": [
    {
     "name": "stdout",
     "output_type": "stream",
     "text": [
      "marr= [1 3 5]\n",
      "marr type= <class 'numpy.ndarray'>\n",
      "marr2= [1 2 3 4 5]\n",
      "marr3= [2 4 6]\n",
      "marr4= [1 2 3 4 5]\n"
     ]
    }
   ],
   "source": [
    "import numpy\n",
    "marr=numpy.array([1,3,5]) #建立ndarray obeject多維度陣列物件\n",
    "print('marr=',marr)\n",
    "print('marr type=',type(marr))\n",
    "import numpy as np\n",
    "marr2=numpy.array([1,2,3,4,5])\n",
    "print('marr2=',marr2)\n",
    "marr3=np.array((2,4,6))\n",
    "print('marr3=',marr3)\n",
    "marr4=np.array([1,2,3,4,5])\n",
    "print('marr4=',marr4)"
   ]
  },
  {
   "cell_type": "code",
   "execution_count": 17,
   "id": "cd611b41-ff30-46b2-a9b5-7673b5982819",
   "metadata": {},
   "outputs": [
    {
     "name": "stdout",
     "output_type": "stream",
     "text": [
      "marr= [[1 2 3]\n",
      " [4 5 6]]\n",
      "marr[1,2]= 6\n",
      "marr type[1,-1]= <class 'numpy.int32'>\n",
      "marr[1:2,1:2]= [[5]]\n"
     ]
    }
   ],
   "source": [
    "import numpy as np\n",
    "marr=np.array([[1,2,3],[4,5,6]])\n",
    "print('marr=',marr)\n",
    "print('marr[1,2]=',marr[1,2]) # 輸出第一行第二列變數行(! 行列數從0開始)\n",
    "print('marr type[1,-1]=',type(marr[1,-1]))\n",
    "print('marr[1:2,1:2]=',marr[1:2,1:2])"
   ]
  },
  {
   "cell_type": "code",
   "execution_count": 6,
   "id": "64563fec-8236-432a-98f1-bec9fbd99c26",
   "metadata": {},
   "outputs": [
    {
     "name": "stdout",
     "output_type": "stream",
     "text": [
      "marr_shape: (2, 2, 2)\n",
      "x in marr: [[1 2]\n",
      " [4 5]]\n",
      "x in marr: [[1 3]\n",
      " [5 6]]\n",
      "marr: [[[1 2]\n",
      "  [4 5]]\n",
      "\n",
      " [[1 3]\n",
      "  [5 6]]]\n",
      "marr1: [[[1 2]\n",
      "  [4 5]]\n",
      "\n",
      " [[1 3]\n",
      "  [5 6]]]\n",
      "marr2: [[[1 2]\n",
      "  [4 5]]\n",
      "\n",
      " [[1 3]\n",
      "  [5 6]]]\n",
      "marr3: [[[1 2]\n",
      "  [4 5]]\n",
      "\n",
      " [[1 3]\n",
      "  [5 6]]\n",
      "\n",
      " [[1 2]\n",
      "  [4 5]]\n",
      "\n",
      " [[1 3]\n",
      "  [5 6]]]\n"
     ]
    }
   ],
   "source": [
    "import numpy as np\n",
    "marr=np.array([[[1,2],[4,5]],[[1,3],[5,6]]])\n",
    "marr1=marr.copy()\n",
    "marr2=marr.view()\n",
    "print('marr_shape:',marr.shape) # 輸出維度大小\n",
    "for x in marr:\n",
    "    print('x in marr:',x)\n",
    "marr3=np.concatenate((marr,marr1))\n",
    "print('marr:',marr)\n",
    "print('marr1:',marr1)\n",
    "print('marr2:',marr2)\n",
    "print('marr3:',marr3)"
   ]
  },
  {
   "cell_type": "code",
   "execution_count": 14,
   "id": "a23ee4e3-dde8-4adf-b971-bb27b4e3ce20",
   "metadata": {},
   "outputs": [
    {
     "name": "stdout",
     "output_type": "stream",
     "text": [
      "marr升序排列= [1 2 3 4 4 4 5]\n",
      "x= (array([4], dtype=int64),)\n",
      "x= 40\n",
      "y= [[ 1 43 44 83 59]\n",
      " [14 98 55 29 86]\n",
      " [85 14 63 15 86]]\n"
     ]
    }
   ],
   "source": [
    "import numpy as np\n",
    "marr=np.array([1,2,3,4,5,4,4])\n",
    "print('marr升序排列=',np.sort(marr))\n",
    "x=np.where(marr==5) # 查找marr中等於5的元素位置,將結果賦值給x\n",
    "print('x=',x)\n",
    "\n",
    "from numpy import random\n",
    "x=random.randint(100) # 生成一個範圍在0-100間的隨機整,包含0但不包含100\n",
    "print('x=',x)\n",
    "y=random.randint(100,size=(3,5))#生成一個3*5的二維隨機整數陣列,賦值給y\n",
    "print('y=',y)"
   ]
  },
  {
   "cell_type": "code",
   "execution_count": null,
   "id": "6860a74a-d542-44ac-ba29-2ae07d0fa9c0",
   "metadata": {},
   "outputs": [],
   "source": []
  }
 ],
 "metadata": {
  "kernelspec": {
   "display_name": "Python 3 (ipykernel)",
   "language": "python",
   "name": "python3"
  },
  "language_info": {
   "codemirror_mode": {
    "name": "ipython",
    "version": 3
   },
   "file_extension": ".py",
   "mimetype": "text/x-python",
   "name": "python",
   "nbconvert_exporter": "python",
   "pygments_lexer": "ipython3",
   "version": "3.12.7"
  }
 },
 "nbformat": 4,
 "nbformat_minor": 5
}
