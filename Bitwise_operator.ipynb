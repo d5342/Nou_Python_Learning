{
 "cells": [
  {
   "cell_type": "code",
   "execution_count": 16,
   "id": "9a48923d-cbb4-4210-a869-67395baf4d4f",
   "metadata": {},
   "outputs": [
    {
     "name": "stdout",
     "output_type": "stream",
     "text": [
      "-1\n",
      "-2\n",
      "-4\n",
      "-5\n",
      "0b1\n",
      "0b10\n",
      "0b11\n",
      "0b100\n",
      "-0b10\n",
      "-0b11\n",
      "-0b100\n",
      "-0b101\n"
     ]
    }
   ],
   "source": [
    "#位元運算\n",
    "print(~0) #\"~\"not運算.位元為1時結果為0,位元為0結果為1.\n",
    "print(~1)\n",
    "print(~3)\n",
    "print(~4)\n",
    "print(bin(1)) #\"bin\"看二進位元表示,結果中的b代表binary二進位\n",
    "print(bin(2))\n",
    "print(bin(3)) \n",
    "print(bin(4))\n",
    "print(bin(~1))\n",
    "print(bin(~2))\n",
    "print(bin(~3))\n",
    "print(bin(~4))"
   ]
  },
  {
   "cell_type": "code",
   "execution_count": 3,
   "id": "30c87376-3f6c-4d88-aad5-40628a8d3e07",
   "metadata": {},
   "outputs": [
    {
     "name": "stdout",
     "output_type": "stream",
     "text": [
      "3\n"
     ]
    }
   ],
   "source": [
    "print(3&3) #\"&\"AND運算."
   ]
  },
  {
   "cell_type": "code",
   "execution_count": 5,
   "id": "873543f9-3d6c-41da-9927-e9a174be329a",
   "metadata": {},
   "outputs": [
    {
     "name": "stdout",
     "output_type": "stream",
     "text": [
      "16\n"
     ]
    }
   ],
   "source": [
    "x=64\n",
    "print(x>>2)"
   ]
  },
  {
   "cell_type": "code",
   "execution_count": 6,
   "id": "f3c5d2b5-e95b-4439-ae17-9d4ac8e8433a",
   "metadata": {},
   "outputs": [
    {
     "name": "stdout",
     "output_type": "stream",
     "text": [
      "256\n"
     ]
    }
   ],
   "source": [
    "print(x<<2)"
   ]
  },
  {
   "cell_type": "code",
   "execution_count": 8,
   "id": "bf59d60d-c5dd-497e-b371-9a1e65d3cf5d",
   "metadata": {},
   "outputs": [
    {
     "name": "stdout",
     "output_type": "stream",
     "text": [
      "1\n"
     ]
    }
   ],
   "source": [
    "print(~(-2))"
   ]
  },
  {
   "cell_type": "code",
   "execution_count": 11,
   "id": "7a4f1d03-a802-434b-9bb1-e795bdeb654c",
   "metadata": {},
   "outputs": [
    {
     "name": "stdout",
     "output_type": "stream",
     "text": [
      "-0b10\n"
     ]
    }
   ],
   "source": [
    "print(bin(-2))"
   ]
  },
  {
   "cell_type": "code",
   "execution_count": 12,
   "id": "f547caa7-2c57-465e-8830-70e08734dd62",
   "metadata": {},
   "outputs": [
    {
     "name": "stdout",
     "output_type": "stream",
     "text": [
      "0b111100\n"
     ]
    }
   ],
   "source": [
    "print(bin(60))"
   ]
  },
  {
   "cell_type": "code",
   "execution_count": null,
   "id": "2506e80e-61d0-4ca5-ac94-d30dd333f0f9",
   "metadata": {},
   "outputs": [],
   "source": []
  }
 ],
 "metadata": {
  "kernelspec": {
   "display_name": "Python 3 (ipykernel)",
   "language": "python",
   "name": "python3"
  },
  "language_info": {
   "codemirror_mode": {
    "name": "ipython",
    "version": 3
   },
   "file_extension": ".py",
   "mimetype": "text/x-python",
   "name": "python",
   "nbconvert_exporter": "python",
   "pygments_lexer": "ipython3",
   "version": "3.12.7"
  }
 },
 "nbformat": 4,
 "nbformat_minor": 5
}
