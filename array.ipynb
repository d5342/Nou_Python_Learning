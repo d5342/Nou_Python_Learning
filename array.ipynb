{
 "cells": [
  {
   "cell_type": "code",
   "execution_count": 26,
   "id": "7c0fbd5e-d8a6-45dd-80cf-deefd36b8c8b",
   "metadata": {},
   "outputs": [
    {
     "name": "stdout",
     "output_type": "stream",
     "text": [
      "['Michigan', 'Ohio', 'Lowa']\n",
      "Ohio\n",
      "Lowa\n",
      "['Michigan', 'Ohio']\n",
      "Michigan\n",
      "Ohio\n",
      "Lowa\n",
      "Lowa is in mylist\n",
      "3\n"
     ]
    }
   ],
   "source": [
    "# 序列\n",
    "mylist = [\"Michigan\", \"Ohio\", \"Lowa\"]\n",
    "# 定義一個列表 mylist，包含三個字串元素：\"Michigan\"、\"Ohio\"、\"Lowa\"\n",
    "print(mylist)\n",
    "# 輸出整個列表，結果為：['Michigan', 'Ohio', 'Lowa']\n",
    "print(mylist[1])\n",
    "# 輸出列表中索引為 1 的元素（從 0 開始計數），結果為：Ohio\n",
    "print(mylist[-1])\n",
    "# 輸出列表中倒數第一個元素（負索引從右邊開始計數），結果為：Lowa\n",
    "print(mylist[0:2])\n",
    "# 輸出列表中索引 0 到 2（不包含 2）的切片，結果為：['Michigan', 'Ohio']\n",
    "# 切片範圍是 [開始:結束]，結束索引不包含在結果中\n",
    "\n",
    "for x in mylist:\n",
    "    # 使用 for 迴圈遍歷 mylist 中的每個元素，x 依次代表每個元素\n",
    "    print(x)\n",
    "    # 輸出當前的元素 x\n",
    "    # 第一次迴圈輸出：Michigan\n",
    "    # 第二次迴圈輸出：Ohio\n",
    "    # 第三次迴圈輸出：Lowa\n",
    "\n",
    "if \"Lowa\" in mylist:\n",
    "        # 檢查 \"Lowa\" 是否在 mylist 中\n",
    "        print(\"Lowa is in mylist\")\n",
    "        # 輸出：Lowa is in mylist\n",
    "\n",
    "print(len(mylist))\n",
    "    # 輸出 mylist 的長度（元素個數）"
   ]
  },
  {
   "cell_type": "code",
   "execution_count": 34,
   "id": "e561f2cf-d98d-49f2-afdf-10d9407b85ab",
   "metadata": {},
   "outputs": [
    {
     "name": "stdout",
     "output_type": "stream",
     "text": [
      "{'Michigann', 'Lowa', 'Ohio'}\n",
      "Michigann\n",
      "Lowa\n",
      "Ohio\n",
      "False\n"
     ]
    },
    {
     "ename": "NameError",
     "evalue": "name 'myset' is not defined",
     "output_type": "error",
     "traceback": [
      "\u001b[1;31m---------------------------------------------------------------------------\u001b[0m",
      "\u001b[1;31mNameError\u001b[0m                                 Traceback (most recent call last)",
      "Cell \u001b[1;32mIn[34], line 31\u001b[0m\n\u001b[0;32m     28\u001b[0m \u001b[38;5;28;01mdel\u001b[39;00m myset\n\u001b[0;32m     29\u001b[0m \u001b[38;5;66;03m# 刪除整個 myset 變數，從記憶體中移除，之後再使用 myset 會引發 NameError\u001b[39;00m\n\u001b[1;32m---> 31\u001b[0m \u001b[38;5;28mprint\u001b[39m(myset)\n",
      "\u001b[1;31mNameError\u001b[0m: name 'myset' is not defined"
     ]
    }
   ],
   "source": [
    "# 集合\n",
    "myset = {'Michigann', 'Ohio', 'Lowa'}\n",
    "# 定義一個集合 myset，包含三個字串元素：\"Michigann\"、\"Ohio\"、\"Lowa\"\n",
    "# 集合的特點是無序且元素不重複\n",
    "print(myset)\n",
    "# 輸出整個集合，例如：{'Lowa', 'Ohio', 'Michigann'}\n",
    "# 注意：集合是無序的，輸出順序可能與定義時不同\n",
    "for x in myset:\n",
    "    # 使用 for 迴圈遍歷 myset 中的每個元素，x 依次代表每個元素\n",
    "    print(x)\n",
    "    # 輸出當前的元素 x\n",
    "    # 可能輸出（順序不固定）：\n",
    "    # Michigann\n",
    "    # Ohio\n",
    "    # Lowa\n",
    "print('Utah' in myset)\n",
    "# 檢查 \"Utah\" 是否在 myset 中，因為 myset 未包含 \"Utah\"，結果為：False\n",
    "myset.add('Minnesota')\n",
    "# 向 myset 中添加元素 \"Minnesota\"，集合會變為：{'Michigann', 'Ohio', 'Lowa', 'Minnesota'}\n",
    "# 如果元素已存在，add() 不會重複添加（因集合不允許重複）\n",
    "myset.remove('Ohio')\n",
    "# 從 myset 中移除元素 \"Ohio\"，集合變為：{'Michigann', 'Lowa', 'Minnesota'}\n",
    "# 如果移除的元素不存在，會引發 KeyError\n",
    "myset.clear()\n",
    "# 清空 myset 中的所有元素，集合變為空集合：set()\n",
    "del myset\n",
    "# 刪除整個 myset 變數，從記憶體中移除，之後再使用 myset 會引發 NameError\n",
    "\n",
    "print(myset)\n",
    "# 輸出 myset，然而 myset 已刪除,因 myset 已不存在而報錯：NameError: name 'myset' is not defined"
   ]
  },
  {
   "cell_type": "code",
   "execution_count": 43,
   "id": "704a34ac-5d08-491a-b890-ce1483488de3",
   "metadata": {},
   "outputs": [
    {
     "name": "stdout",
     "output_type": "stream",
     "text": [
      "brand Toyota\n",
      "model RAV4\n",
      "year 2019\n",
      "更新後 {'brand': 'Toyota', 'model': 'RAV4', 'year': 2019, 'color': 'yellow'}\n"
     ]
    }
   ],
   "source": [
    "# 字典\n",
    "mydict = {'brand': 'Toyota', 'model': 'RAV4', 'year': 2020}\n",
    "# 定義一個字典 mydict，包含三組鍵值對（key-value pairs）：\n",
    "# 'brand' 對應 'Toyota'（品牌）\n",
    "# 'model' 對應 'RAV4'（型號）\n",
    "# 'year' 對應 2020（年份）\n",
    "\n",
    "x = mydict['brand']\n",
    "# 透過鍵 'brand' 訪問字典中的值，並將 'Toyota' 賦值給變數 x\n",
    "# 此時 x 的值為 'Toyota'\n",
    "\n",
    "mydict['year'] = 2019\n",
    "# 修改字典中 'year' 鍵對應的值，從 2020 改為 2019\n",
    "# 字典變為：{'brand': 'Toyota', 'model': 'RAV4', 'year': 2019}\n",
    "\n",
    "for x, y in mydict.items():\n",
    "    # 使用 for 迴圈遍歷字典的鍵值對\n",
    "    # mydict.items() 返回字典中所有鍵值對的視圖，x 代表鍵，y 代表值\n",
    "    print(x, y)\n",
    "    # 輸出每一組鍵值對，例如：\n",
    "    # brand Toyota\n",
    "    # model RAV4\n",
    "    # year 2019\n",
    "\n",
    "mydict['color'] = 'yellow'\n",
    "# 向字典中添加新的鍵值對，鍵為 'color'，值為 'yellow'\n",
    "# 字典變為：{'brand': 'Toyota', 'model': 'RAV4', 'year': 2019, 'color': 'yellow'}\n",
    "\n",
    "print('更新後',mydict)"
   ]
  },
  {
   "cell_type": "code",
   "execution_count": 42,
   "id": "c7c1a2e9-c3b0-4190-98ce-3a9d11d2a4af",
   "metadata": {},
   "outputs": [
    {
     "name": "stdout",
     "output_type": "stream",
     "text": [
      "品牌: Toyota\n",
      "修改年份後: {'brand': 'Toyota', 'model': 'RAV4', 'year': 2019}\n",
      "brand Toyota\n",
      "model RAV4\n",
      "year 2019\n",
      "添加顏色後: {'brand': 'Toyota', 'model': 'RAV4', 'year': 2019, 'color': 'yellow'}\n"
     ]
    }
   ],
   "source": [
    "# 字典2\n",
    "mydict = {'brand': 'Toyota', 'model': 'RAV4', 'year': 2020}\n",
    "brand_name = mydict['brand']  # 使用不同變數名，避免與迴圈中的 x 衝突\n",
    "print(\"品牌:\", brand_name)\n",
    "\n",
    "mydict['year'] = 2019\n",
    "print(\"修改年份後:\", mydict)\n",
    "\n",
    "for key, value in mydict.items():  # 使用更有意義的變數名 key 和 value\n",
    "    print(key, value)\n",
    "\n",
    "mydict['color'] = 'yellow'\n",
    "print(\"添加顏色後:\", mydict)"
   ]
  },
  {
   "cell_type": "code",
   "execution_count": 52,
   "id": "42136c94-39c7-47f1-841c-91484a88ffb0",
   "metadata": {},
   "outputs": [
    {
     "name": "stdout",
     "output_type": "stream",
     "text": [
      "序對中倒數第一個: Lowa\n",
      "完整序對: ('Michigan', 'Ohio', 'Lowa')\n",
      "新的序對 ('Michigan', 'Utah', 'Lowa')\n"
     ]
    }
   ],
   "source": [
    "# 序對\n",
    "mytuple = ('Michigan', 'Ohio', 'Lowa')\n",
    "# 定義一個序對 mytuple，包含三個字符串元素：\"Michigan\"、\"Ohio\"、\"Lowa\"\n",
    "# 序對不可變，一旦創建無法直接修改\n",
    "print('序對中倒數第一個:',mytuple[-1])\n",
    "# 輸出序對中倒數第一個元素（負索引從右邊開始計數）\n",
    "print('完整序對:',mytuple)\n",
    "y = list(mytuple)\n",
    "# 將序對 mytuple 轉換為列表，並賦值給變量 y\n",
    "# 轉換後 y 是一個列表：['Michigan', 'Ohio', 'Lowa']\n",
    "# 列表可變，可以修改其內容\n",
    "y[1] = 'Utah'\n",
    "# 修改列表 y 中索引為 1 的元素（第二個元素），將 'Ohio' 替換為 'Utah'\n",
    "# 修改後 y 變為：['Michigan', 'Utah', 'Lowa']\n",
    "mytuple = tuple(y)\n",
    "# 將修改後的列表 y 轉換回序對，並賦值給 mytuple\n",
    "# 此時 mytuple 變為：('Michigan', 'Utah', 'Lowa')\n",
    "# 注意：這不是直接修改原來的序對，而是創建了一個新的序對\n",
    "print('新的序對',mytuple)"
   ]
  },
  {
   "cell_type": "code",
   "execution_count": 49,
   "id": "17741a60-83c1-4b02-a045-cd1684335f9c",
   "metadata": {},
   "outputs": [
    {
     "name": "stdout",
     "output_type": "stream",
     "text": [
      "原始序對最後一個元素: Lowa\n",
      "轉換為列表: ['Michigan', 'Ohio', 'Lowa']\n",
      "修改列表後: ['Michigan', 'Utah', 'Lowa']\n",
      "新的序對: ('Michigan', 'Utah', 'Lowa')\n"
     ]
    }
   ],
   "source": [
    "#序對\n",
    "mytuple = ('Michigan', 'Ohio', 'Lowa')\n",
    "print(\"原始序對最後一個元素:\", mytuple[-1])\n",
    "\n",
    "y = list(mytuple)\n",
    "print(\"轉換為列表:\", y)\n",
    "\n",
    "y[1] = 'Utah'\n",
    "print(\"修改列表後:\", y)\n",
    "\n",
    "mytuple = tuple(y)\n",
    "print(\"新的序對:\", mytuple)"
   ]
  },
  {
   "cell_type": "code",
   "execution_count": 63,
   "id": "9afb2499-b1a9-4aab-9cbc-fd9de0222e5e",
   "metadata": {},
   "outputs": [
    {
     "name": "stdout",
     "output_type": "stream",
     "text": [
      "Lowa\n"
     ]
    }
   ],
   "source": [
    "# 容器物件與for迴路loop\n",
    "myset={'Michigan','Ohio','Lowa'}\n",
    "for x in myset:\n",
    "    print(x)\n",
    "    if x=='Lowa':\n",
    "       break"
   ]
  },
  {
   "cell_type": "code",
   "execution_count": 61,
   "id": "7d9084b4-2797-491c-ae02-d5e026f8012a",
   "metadata": {},
   "outputs": [
    {
     "name": "stdout",
     "output_type": "stream",
     "text": [
      "姓名\n",
      "身高\n",
      "體重\n"
     ]
    }
   ],
   "source": [
    "# 容器物件與for迴路loop2\n",
    "s={'姓名':'王曉明','身高':'175cm','體重':'不詳'}\n",
    "for k in s.keys():\n",
    "    print(k.title())"
   ]
  },
  {
   "cell_type": "code",
   "execution_count": null,
   "id": "32250bf4-13f6-4735-8b60-c204c5eb0a05",
   "metadata": {},
   "outputs": [],
   "source": []
  }
 ],
 "metadata": {
  "kernelspec": {
   "display_name": "Python 3 (ipykernel)",
   "language": "python",
   "name": "python3"
  },
  "language_info": {
   "codemirror_mode": {
    "name": "ipython",
    "version": 3
   },
   "file_extension": ".py",
   "mimetype": "text/x-python",
   "name": "python",
   "nbconvert_exporter": "python",
   "pygments_lexer": "ipython3",
   "version": "3.12.7"
  }
 },
 "nbformat": 4,
 "nbformat_minor": 5
}
