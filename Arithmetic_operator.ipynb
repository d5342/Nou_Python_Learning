{
 "cells": [
  {
   "cell_type": "code",
   "execution_count": 8,
   "id": "117520f9-02e6-4dbe-bda7-16d1891bd152",
   "metadata": {},
   "outputs": [
    {
     "name": "stdout",
     "output_type": "stream",
     "text": [
      "5\n",
      "1\n",
      "6\n",
      "2.0\n",
      "216\n",
      "3\n",
      "1\n"
     ]
    }
   ],
   "source": [
    "#算術運算\n",
    "A=2+3 #加法\n",
    "print(A)\n",
    "A=2-1 #減法\n",
    "print(A)\n",
    "A=2*3 #乘法\n",
    "print(A)\n",
    "A=6/3 #除法\n",
    "print(A)\n",
    "A=6**3 #指數運算\n",
    "print(A)\n",
    "A=13//4 #整除數\n",
    "print(A)\n",
    "A=13%4 #取除餘\n",
    "print(A)"
   ]
  },
  {
   "cell_type": "code",
   "execution_count": 9,
   "id": "c2d0f78d-bafb-494d-b382-4a82deffa3ee",
   "metadata": {},
   "outputs": [
    {
     "name": "stdin",
     "output_type": "stream",
     "text": [
      "請輸入西元: 1992\n"
     ]
    },
    {
     "name": "stdout",
     "output_type": "stream",
     "text": [
      "1992是閏年\n"
     ]
    }
   ],
   "source": [
    "#判定閏年\n",
    "#西元年能被4整除不能被100整除,是閏年\n",
    "#被4整除也能被100整除,但不能被400整除,不是閏年\n",
    "#被4整除也能被100整除,但能被400整除,是閏年\n",
    "year=int(input(\"請輸入西元:\"))\n",
    "if(year%4)==0:\n",
    "  if(year%100)==0:\n",
    "   if(year%400)==0:\n",
    "       print('{0}為閏年'.format(year)) #{0} 佔位符，等待 .format() 的值填入\n",
    "   else:\n",
    "     print('{0}不是閏年'.format(year))\n",
    "  else:\n",
    "   print('{0}是閏年'.format(year))\n",
    "\n",
    "else:\n",
    "     print('{0}不是閏年'.format(year))\n",
    "     "
   ]
  },
  {
   "cell_type": "code",
   "execution_count": 13,
   "id": "124ab35b-e6e9-4b2a-a831-cc67a285651a",
   "metadata": {},
   "outputs": [
    {
     "name": "stdin",
     "output_type": "stream",
     "text": [
      "請輸入西元年: 1992\n"
     ]
    },
    {
     "name": "stdout",
     "output_type": "stream",
     "text": [
      "1992 是閏年\n",
      "1992 是閏年\n"
     ]
    }
   ],
   "source": [
    "#判定西元年是否為閏年\n",
    "#能被4整除不能被100整除,是閏年\n",
    "#能被4,100,400整除,是閏年\n",
    "#能被4,100整除,但不能被400整除,不是閏年\n",
    "\n",
    "#閏年是\n",
    "\n",
    "year=int(input(\"請輸入西元年:\"))\n",
    "if(year%4)==0 & (year%100==0):\n",
    "    print(year,'是閏年')\n",
    "else: \n",
    "    print(year,'不是閏年')\n",
    "if(year%4)==0 & (year%100==0) & (year%400==0) :\n",
    "    print(year,'是閏年')\n",
    "else: \n",
    "    print(year,'不是閏年')"
   ]
  },
  {
   "cell_type": "code",
   "execution_count": null,
   "id": "9dba8c4a-ab81-4f2a-99c6-e4fd754155aa",
   "metadata": {},
   "outputs": [],
   "source": []
  }
 ],
 "metadata": {
  "kernelspec": {
   "display_name": "Python 3 (ipykernel)",
   "language": "python",
   "name": "python3"
  },
  "language_info": {
   "codemirror_mode": {
    "name": "ipython",
    "version": 3
   },
   "file_extension": ".py",
   "mimetype": "text/x-python",
   "name": "python",
   "nbconvert_exporter": "python",
   "pygments_lexer": "ipython3",
   "version": "3.12.7"
  }
 },
 "nbformat": 4,
 "nbformat_minor": 5
}
