{
 "cells": [
  {
   "cell_type": "code",
   "execution_count": 8,
   "id": "117520f9-02e6-4dbe-bda7-16d1891bd152",
   "metadata": {},
   "outputs": [
    {
     "name": "stdout",
     "output_type": "stream",
     "text": [
      "5\n",
      "1\n",
      "6\n",
      "2.0\n",
      "216\n",
      "3\n",
      "1\n"
     ]
    }
   ],
   "source": [
    "#算術運算\n",
    "A=2+3 #加法\n",
    "print(A)\n",
    "A=2-1 #減法\n",
    "print(A)\n",
    "A=2*3 #乘法\n",
    "print(A)\n",
    "A=6/3 #除法\n",
    "print(A)\n",
    "A=6**3 #指數運算\n",
    "print(A)\n",
    "A=13//4 #整除數\n",
    "print(A)\n",
    "A=13%4 #取除餘\n",
    "print(A)"
   ]
  },
  {
   "cell_type": "code",
   "execution_count": null,
   "id": "c2d0f78d-bafb-494d-b382-4a82deffa3ee",
   "metadata": {},
   "outputs": [],
   "source": []
  }
 ],
 "metadata": {
  "kernelspec": {
   "display_name": "Python 3 (ipykernel)",
   "language": "python",
   "name": "python3"
  },
  "language_info": {
   "codemirror_mode": {
    "name": "ipython",
    "version": 3
   },
   "file_extension": ".py",
   "mimetype": "text/x-python",
   "name": "python",
   "nbconvert_exporter": "python",
   "pygments_lexer": "ipython3",
   "version": "3.12.7"
  }
 },
 "nbformat": 4,
 "nbformat_minor": 5
}
