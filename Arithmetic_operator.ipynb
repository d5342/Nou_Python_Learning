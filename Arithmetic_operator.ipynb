{
 "cells": [
  {
   "cell_type": "code",
   "execution_count": 8,
   "id": "117520f9-02e6-4dbe-bda7-16d1891bd152",
   "metadata": {},
   "outputs": [
    {
     "name": "stdout",
     "output_type": "stream",
     "text": [
      "5\n",
      "1\n",
      "6\n",
      "2.0\n",
      "216\n",
      "3\n",
      "1\n"
     ]
    }
   ],
   "source": [
    "#算術運算\n",
    "A=2+3 #加法\n",
    "print(A)\n",
    "A=2-1 #減法\n",
    "print(A)\n",
    "A=2*3 #乘法\n",
    "print(A)\n",
    "A=6/3 #除法\n",
    "print(A)\n",
    "A=6**3 #指數運算\n",
    "print(A)\n",
    "A=13//4 #整除數\n",
    "print(A)\n",
    "A=13%4 #取除餘\n",
    "print(A)"
   ]
  },
  {
   "cell_type": "code",
   "execution_count": 9,
   "id": "c2d0f78d-bafb-494d-b382-4a82deffa3ee",
   "metadata": {},
   "outputs": [
    {
     "name": "stdin",
     "output_type": "stream",
     "text": [
      "請輸入西元: 1992\n"
     ]
    },
    {
     "name": "stdout",
     "output_type": "stream",
     "text": [
      "1992是閏年\n"
     ]
    }
   ],
   "source": [
    "#判定閏年\n",
    "#西元年能被4整除不能被100整除,是閏年\n",
    "#被4整除也能被100整除,但能被400整除,是閏年\n",
    "#被4整除也能被100整除,但不能被400整除,不是閏年\n",
    "year=int(input(\"請輸入西元:\"))\n",
    "if(year%4)==0:\n",
    "  if(year%100)==0:\n",
    "   if(year%400)==0:\n",
    "       print('{0}為閏年'.format(year)) #{0} 佔位符，等待 .format() 的值填入\n",
    "   else:\n",
    "     print('{0}不是閏年'.format(year))\n",
    "  else:\n",
    "   print('{0}是閏年'.format(year))\n",
    "\n",
    "else:\n",
    "     print('{0}不是閏年'.format(year))\n",
    "     "
   ]
  },
  {
   "cell_type": "code",
   "execution_count": 3,
   "id": "9dba8c4a-ab81-4f2a-99c6-e4fd754155aa",
   "metadata": {},
   "outputs": [
    {
     "name": "stdin",
     "output_type": "stream",
     "text": [
      "請輸入西元: 1992\n"
     ]
    },
    {
     "name": "stdout",
     "output_type": "stream",
     "text": [
      "1992 是閏年\n"
     ]
    }
   ],
   "source": [
    "#判定閏年\n",
    "#西元年能被4整除不能被100整除,是閏年\n",
    "#被4整除也能被100整除,但能被400整除,是閏年\n",
    "#被4整除也能被100整除,但不能被400整除,不是閏年\n",
    "year=int(input(\"請輸入西元:\"))\n",
    "if(year%4)==0:\n",
    "    if(year%100)==0:\n",
    "        if(year%400)==0:\n",
    "            print(year,'是閏年') #被4整除也能被100整除,但能被400整除,是閏年\n",
    "        else:print(year,'不是閏年') #被4整除也能被100整除,但不能被400整除,不是閏年\n",
    "    else:print(year,'是閏年') #西元年能被4整除不能被100整除,是閏年\n",
    "else:print(year,'不是閏年') #西元年能被4整除能被100整除,不是閏年"
   ]
  },
  {
   "cell_type": "code",
   "execution_count": 4,
   "id": "119f2f57-7ba0-48d8-a7fd-bb9983d39601",
   "metadata": {},
   "outputs": [
    {
     "name": "stdin",
     "output_type": "stream",
     "text": [
      "請輸入西元: 1992\n"
     ]
    },
    {
     "name": "stdout",
     "output_type": "stream",
     "text": [
      "1992 是閏年\n"
     ]
    }
   ],
   "source": [
    "#判定閏年\n",
    "#西元年能被4整除不能被100整除,是閏年\n",
    "#被4整除也能被100整除,但能被400整除,是閏年\n",
    "#被4整除也能被100整除,但不能被400整除,不是閏年\n",
    "year = int(input(\"請輸入西元:\"))\n",
    "if year % 400 == 0:  \n",
    "    print(f\"{year} 是閏年\")#年份能被400整除是閏年\n",
    "elif year % 100 == 0:\n",
    "    print(f\"{year} 不是閏年\") #年份不能被400整除但能被100整除不是閏年\n",
    "elif year % 4 == 0:\n",
    "    print(f\"{year} 是閏年\")#年份不能被400整除也不能被100整除但能被4整除是閏年\n",
    "else:\n",
    "    print(f\"{year} 不是閏年\")#年份不能被400整除也不能被100跟4整除不是閏年\n"
   ]
  },
  {
   "cell_type": "code",
   "execution_count": 11,
   "id": "041538fe-d8ef-4a1a-8d7b-e69e7165e5b9",
   "metadata": {},
   "outputs": [
    {
     "name": "stdin",
     "output_type": "stream",
     "text": [
      "請輸入樂透號碼上限: 90\n"
     ]
    },
    {
     "name": "stdout",
     "output_type": "stream",
     "text": [
      "本期樂透號碼如下:[75, 46, 84, 24, 26, 5]\n",
      "\n",
      "祝您中獎!\n"
     ]
    }
   ],
   "source": [
    "# 教材版樂透開獎程式\n",
    "def lotteryWinningNo(no):\n",
    "    # 定義一個名為 lotteryWinningNo 的函數，參數 no 表示樂透號碼的上限\n",
    "    # 這個函數的作用是生成一組隨機的樂透號碼\n",
    "    import random\n",
    "    # 匯入 Python 的 random 模組，用來生成隨機數字\n",
    "    integer = []\n",
    "    # 建立一個空的列表 integer，用來儲存生成的樂透號碼\n",
    "    for number in range(0, 6): \n",
    "        # 使用 for 迴圈，執行 6 次 (從 0 到 5)，因為通常樂透需要 6 個號碼\n",
    "        # number 是迴圈的計數變數，但這裡實際上並未使用到它\n",
    "        integer.append(random.randint(1, no))\n",
    "        # 使用 random.randint(1, no) 生成一個隨機整數，範圍從 1 到 no (包含 1 和 no)\n",
    "        # 將生成的隨機數字加入到 integer 列表中\n",
    "    return integer\n",
    "    # 函數執行完畢後，回傳生成的樂透號碼列表 integer\n",
    "\n",
    "num_range = int(input(\"請輸入樂透號碼上限:\"))\n",
    "# 使用 input() 讓使用者輸入樂透號碼的上限值\n",
    "# int() 將輸入的字串轉換為整數，並儲存到變數 num_range 中\n",
    "print('本期樂透號碼如下:{}'.format(lotteryWinningNo(num_range)))\n",
    "# 呼叫 lotteryWinningNo 函數，傳入 num_range 作為參數，生成樂透號碼\n",
    "# 使用 print() 輸出結果，並以格式化字串的方式將號碼嵌入句子中\n",
    "# 例如，若生成的號碼是 [3, 15, 27, 42, 58, 72]，則輸出 \"本期樂透號碼如下:[3, 15, 27, 42, 58, 72]\"\n",
    "print('\\n祝您中獎!')\n",
    "# 輸出祝福語，\\n 表示換行，讓這句話單獨顯示在一行"
   ]
  },
  {
   "cell_type": "code",
   "execution_count": 12,
   "id": "21ecb962-e433-4163-b375-9356f17be2d8",
   "metadata": {},
   "outputs": [
    {
     "name": "stdin",
     "output_type": "stream",
     "text": [
      "請輸入樂透號碼上限: 49\n"
     ]
    },
    {
     "name": "stdout",
     "output_type": "stream",
     "text": [
      "本期樂透號碼如下: [38, 12, 46, 49, 25, 29]\n",
      "\n",
      "祝您中獎!\n"
     ]
    }
   ],
   "source": [
    "# 精簡改善版樂透開獎\n",
    "def lotteryWinningNo(no):\n",
    "    # 定義生成樂透號碼的函數，參數 no 為號碼上限\n",
    "    import random\n",
    "    # 匯入 random 模組以生成隨機數\n",
    "    numbers = set()  # 使用集合（set）來避免重複\n",
    "    while len(numbers) < 6:  # 當集合中的數字少於 6 時繼續循環\n",
    "        numbers.add(random.randint(1, no))  # 隨機生成 1 到 no 的數字並加入集合\n",
    "    return list(numbers)  # 將集合轉為列表並回傳\n",
    "\n",
    "limit = int(input(\"請輸入樂透號碼上限:\"))\n",
    "# 直接將輸入轉為整數，存入 limit 變數，避免多餘的命名\n",
    "print('本期樂透號碼如下:', lotteryWinningNo(limit))\n",
    "# 簡化輸出格式，使用逗號分隔字串和函數結果\n",
    "print('\\n祝您中獎!')\n",
    "# 輸出祝福語，\\n 表示換行"
   ]
  },
  {
   "cell_type": "code",
   "execution_count": null,
   "id": "95acba81-abb5-4723-a9cc-a408ecab7a4e",
   "metadata": {},
   "outputs": [],
   "source": []
  }
 ],
 "metadata": {
  "kernelspec": {
   "display_name": "Python 3 (ipykernel)",
   "language": "python",
   "name": "python3"
  },
  "language_info": {
   "codemirror_mode": {
    "name": "ipython",
    "version": 3
   },
   "file_extension": ".py",
   "mimetype": "text/x-python",
   "name": "python",
   "nbconvert_exporter": "python",
   "pygments_lexer": "ipython3",
   "version": "3.12.7"
  }
 },
 "nbformat": 4,
 "nbformat_minor": 5
}
