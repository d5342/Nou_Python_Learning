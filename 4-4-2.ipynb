{
 "cells": [
  {
   "cell_type": "code",
   "execution_count": 1,
   "id": "923ab351-4177-46f6-8079-3869b5779714",
   "metadata": {},
   "outputs": [
    {
     "name": "stdout",
     "output_type": "stream",
     "text": [
      "1.26.4\n",
      "12\n"
     ]
    }
   ],
   "source": [
    "import numpy as np\n",
    "print(np.__version__)\n",
    "arr1=np.array(12)\n",
    "print(arr1)"
   ]
  },
  {
   "cell_type": "code",
   "execution_count": 2,
   "id": "b5444aa3-50cf-422f-9b12-97e6f5864d78",
   "metadata": {},
   "outputs": [
    {
     "name": "stdout",
     "output_type": "stream",
     "text": [
      "0\n",
      "int32\n"
     ]
    }
   ],
   "source": [
    "import numpy as np\n",
    "a=np.array(42)\n",
    "print(a.ndim)\n",
    "print(a.dtype)"
   ]
  },
  {
   "cell_type": "code",
   "execution_count": 4,
   "id": "52a47111-a8cc-4cad-9743-6027438e60e9",
   "metadata": {},
   "outputs": [
    {
     "name": "stdout",
     "output_type": "stream",
     "text": [
      "[1 3 4 5]\n",
      "3\n",
      "5\n",
      "6\n",
      "7\n"
     ]
    }
   ],
   "source": [
    "import numpy\n",
    "marr=numpy.array([1,3,4,5])\n",
    "print(marr)\n",
    "for i in marr:\n",
    "    print(i+2)"
   ]
  },
  {
   "cell_type": "code",
   "execution_count": 5,
   "id": "c68ee809-4bb5-4dbb-8253-ddb0de4a44cf",
   "metadata": {},
   "outputs": [
    {
     "name": "stdout",
     "output_type": "stream",
     "text": [
      "[1 2 3 4 5]\n"
     ]
    }
   ],
   "source": [
    "import numpy as np\n",
    "marr2=np.array([1,2,3,4,5])\n",
    "print(marr2)"
   ]
  },
  {
   "cell_type": "code",
   "execution_count": 8,
   "id": "13b7db52-0309-474b-a6ff-d2b113292e67",
   "metadata": {},
   "outputs": [
    {
     "name": "stdout",
     "output_type": "stream",
     "text": [
      "{1, 2, 3, 4}\n",
      "<class 'numpy.ndarray'>\n",
      "True\n"
     ]
    }
   ],
   "source": [
    "marr3=np.array({1,2,3,4})\n",
    "print(marr3)\n",
    "print(type(marr3))\n",
    "print(type(marr2)==type(marr3))"
   ]
  },
  {
   "cell_type": "code",
   "execution_count": 9,
   "id": "46f42e4d-db5b-4fd0-8aef-8a99775ecc61",
   "metadata": {},
   "outputs": [
    {
     "name": "stdout",
     "output_type": "stream",
     "text": [
      "{2, 3, 4}\n",
      "[1 2 3 4]\n"
     ]
    }
   ],
   "source": [
    "mr={2,2,3,4}\n",
    "print(mr)\n",
    "marr4=np.array((1,2,3,4))\n",
    "print(marr4)"
   ]
  },
  {
   "cell_type": "code",
   "execution_count": 10,
   "id": "1f782417-a93c-4590-bf98-2a4012c6dca9",
   "metadata": {},
   "outputs": [
    {
     "name": "stdout",
     "output_type": "stream",
     "text": [
      "['a' 'b']\n"
     ]
    }
   ],
   "source": [
    "marr5=np.array(['a','b'])\n",
    "print(marr5)"
   ]
  },
  {
   "cell_type": "code",
   "execution_count": 11,
   "id": "2ec994db-3458-4c5a-99e7-36e8808035cf",
   "metadata": {},
   "outputs": [
    {
     "name": "stdout",
     "output_type": "stream",
     "text": [
      "{'brand': 'Toyota', 'model': 'RAV4', 'year': 2020}\n",
      "<class 'dict'>\n",
      "{'brand': 'Toyota', 'model': 'RAV4', 'year': 2020}\n",
      "<class 'numpy.ndarray'>\n"
     ]
    }
   ],
   "source": [
    "marr6={'brand':'Toyota','model':'RAV4','year':2020}\n",
    "print(marr6)\n",
    "print(type(marr6))\n",
    "marr7=np.array(marr6)\n",
    "print(marr7)\n",
    "print(type(marr7))"
   ]
  },
  {
   "cell_type": "code",
   "execution_count": 16,
   "id": "3be87b43-53f0-4960-8950-06cb4ba3f31f",
   "metadata": {},
   "outputs": [
    {
     "name": "stdout",
     "output_type": "stream",
     "text": [
      "[[1 2 3]\n",
      " [4 5 6]]\n",
      "6\n"
     ]
    }
   ],
   "source": [
    "import numpy as np\n",
    "marr=np.array([[1,2,3],[4,5,6]])\n",
    "print(marr)\n",
    "print(marr[1,2])"
   ]
  },
  {
   "cell_type": "code",
   "execution_count": 13,
   "id": "fcba2986-4673-43c7-bc55-b7dfa4ae98eb",
   "metadata": {},
   "outputs": [
    {
     "name": "stdout",
     "output_type": "stream",
     "text": [
      "2\n"
     ]
    }
   ],
   "source": [
    "print(marr[0,1])"
   ]
  },
  {
   "cell_type": "code",
   "execution_count": 14,
   "id": "6bc19fa2-3e4e-40ca-9518-3e4451def224",
   "metadata": {},
   "outputs": [
    {
     "name": "stdout",
     "output_type": "stream",
     "text": [
      "5\n"
     ]
    }
   ],
   "source": [
    "print(marr[1,1])"
   ]
  },
  {
   "cell_type": "code",
   "execution_count": 17,
   "id": "f15c37eb-edf8-4266-b3ee-6f413f7442f9",
   "metadata": {},
   "outputs": [
    {
     "name": "stdout",
     "output_type": "stream",
     "text": [
      "3\n"
     ]
    }
   ],
   "source": [
    "print(marr[0,2])"
   ]
  },
  {
   "cell_type": "code",
   "execution_count": 18,
   "id": "68ed2426-d055-4fd1-a3c7-6e1eeeede276",
   "metadata": {},
   "outputs": [
    {
     "name": "stdout",
     "output_type": "stream",
     "text": [
      "[1 2]\n"
     ]
    }
   ],
   "source": [
    "print(marr[0,0:-1])"
   ]
  },
  {
   "cell_type": "code",
   "execution_count": 21,
   "id": "be272141-7814-48f7-a6d5-d3be43d5b218",
   "metadata": {},
   "outputs": [],
   "source": [
    "import numpy as np\n",
    "marr=np.array([[[1,2],[4,5]],[[1,3],[5,6]]])\n",
    "marr1=marr.copy()\n",
    "marr2=marr.view()"
   ]
  },
  {
   "cell_type": "code",
   "execution_count": 23,
   "id": "5a55b126-80c6-4f96-b622-f387aa3c730a",
   "metadata": {},
   "outputs": [
    {
     "name": "stdout",
     "output_type": "stream",
     "text": [
      "[[[1 2]\n",
      "  [4 5]]\n",
      "\n",
      " [[1 3]\n",
      "  [5 6]]]\n"
     ]
    }
   ],
   "source": [
    "print(marr)"
   ]
  },
  {
   "cell_type": "code",
   "execution_count": 24,
   "id": "dbbbf69a-2a0f-40af-be3e-60e7c7b74de7",
   "metadata": {},
   "outputs": [
    {
     "name": "stdout",
     "output_type": "stream",
     "text": [
      "[[[1 2]\n",
      "  [4 5]]\n",
      "\n",
      " [[1 3]\n",
      "  [5 6]]]\n"
     ]
    }
   ],
   "source": [
    "print(marr1)"
   ]
  },
  {
   "cell_type": "code",
   "execution_count": 25,
   "id": "0439d5a9-f12c-4858-9b80-b601e5edabe5",
   "metadata": {},
   "outputs": [
    {
     "name": "stdout",
     "output_type": "stream",
     "text": [
      "[[[1 2]\n",
      "  [4 5]]\n",
      "\n",
      " [[1 3]\n",
      "  [5 6]]]\n",
      "<class 'numpy.ndarray'>\n"
     ]
    }
   ],
   "source": [
    "print(marr2)\n",
    "print(type(marr2))"
   ]
  },
  {
   "cell_type": "code",
   "execution_count": 26,
   "id": "46568eff-74a5-4e8b-ac5c-753ccc33ec0a",
   "metadata": {},
   "outputs": [
    {
     "name": "stdout",
     "output_type": "stream",
     "text": [
      "[5 6]\n",
      "[1 2]\n",
      "[4 5]\n"
     ]
    }
   ],
   "source": [
    "print(marr2[1,1])\n",
    "print(marr2[0,0])\n",
    "print(marr2[0,1])"
   ]
  },
  {
   "cell_type": "code",
   "execution_count": 27,
   "id": "d0f5d0d7-3b44-4694-bc92-4f31a898af85",
   "metadata": {},
   "outputs": [
    {
     "name": "stdout",
     "output_type": "stream",
     "text": [
      "(2, 2, 2)\n",
      "[[1 2]\n",
      " [4 5]]\n",
      "[[1 3]\n",
      " [5 6]]\n"
     ]
    }
   ],
   "source": [
    "print(marr.shape)\n",
    "for x in marr:\n",
    "    print(x)\n",
    "marr3=np.concatenate((marr,marr1))"
   ]
  },
  {
   "cell_type": "code",
   "execution_count": 28,
   "id": "92465a10-ff44-4a79-83c3-5c07c0bcfc48",
   "metadata": {},
   "outputs": [
    {
     "name": "stdout",
     "output_type": "stream",
     "text": [
      "[[[1 2]\n",
      "  [4 5]]\n",
      "\n",
      " [[1 3]\n",
      "  [5 6]]\n",
      "\n",
      " [[1 2]\n",
      "  [4 5]]\n",
      "\n",
      " [[1 3]\n",
      "  [5 6]]]\n"
     ]
    }
   ],
   "source": [
    "print(marr3)"
   ]
  },
  {
   "cell_type": "code",
   "execution_count": 29,
   "id": "f7103fe8-be26-40bc-b7a7-2a114e7cf0b8",
   "metadata": {},
   "outputs": [
    {
     "name": "stdout",
     "output_type": "stream",
     "text": [
      "(array([4], dtype=int64),)\n",
      "[1 2 3 4 4 5]\n"
     ]
    }
   ],
   "source": [
    "import numpy as np\n",
    "marr=np.array([1,2,3,4,5,4,])\n",
    "x=np.where(marr==5)\n",
    "print(x)\n",
    "print(np.sort(marr))"
   ]
  },
  {
   "cell_type": "code",
   "execution_count": 30,
   "id": "8fd73f69-8c1a-4c63-9d74-a5da04091141",
   "metadata": {},
   "outputs": [
    {
     "name": "stdout",
     "output_type": "stream",
     "text": [
      "1\n",
      "[[1 1 7 6 6]\n",
      " [7 9 9 0 3]\n",
      " [9 4 7 3 5]]\n",
      "3\n"
     ]
    }
   ],
   "source": [
    "from numpy import random\n",
    "x=random.randint(10)\n",
    "print(x)\n",
    "y=random.randint(10,size=(3,5))\n",
    "print(y)\n",
    "print(y[2,3])"
   ]
  },
  {
   "cell_type": "code",
   "execution_count": 32,
   "id": "7513ccf1-7f92-4dd4-a8f7-699bf05a0b5a",
   "metadata": {},
   "outputs": [
    {
     "name": "stdout",
     "output_type": "stream",
     "text": [
      "<class 'numpy.ndarray'>\n",
      "<class 'numpy.ndarray'>\n",
      "1 3\n",
      "8 10\n",
      "1 4\n",
      "[[ 1  3  5]\n",
      " [ 2 17  6]]\n"
     ]
    }
   ],
   "source": [
    "x=np.array([1,3,5,6,9])\n",
    "y=np.array([2,4,6,8,10])\n",
    "print(type(x))\n",
    "print(type(y))\n",
    "print(x[0],x[1])\n",
    "print(y[3],y[4])\n",
    "\n",
    "# 建立二維陣列\n",
    "z=np.array([[1,3,5],[2,4,6]])\n",
    "print(z[0,0],z[1,1])\n",
    "z[1,1]=17\n",
    "print(z)"
   ]
  },
  {
   "cell_type": "code",
   "execution_count": null,
   "id": "87f22e0a-d415-4fc0-b58e-ef8aac695005",
   "metadata": {},
   "outputs": [],
   "source": []
  }
 ],
 "metadata": {
  "kernelspec": {
   "display_name": "Python 3 (ipykernel)",
   "language": "python",
   "name": "python3"
  },
  "language_info": {
   "codemirror_mode": {
    "name": "ipython",
    "version": 3
   },
   "file_extension": ".py",
   "mimetype": "text/x-python",
   "name": "python",
   "nbconvert_exporter": "python",
   "pygments_lexer": "ipython3",
   "version": "3.12.7"
  }
 },
 "nbformat": 4,
 "nbformat_minor": 5
}
