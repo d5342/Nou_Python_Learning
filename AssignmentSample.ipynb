{
 "cells": [
  {
   "cell_type": "code",
   "execution_count": 17,
   "id": "ffbdcb10-0471-4dae-8e1e-a3fbf47b4279",
   "metadata": {},
   "outputs": [
    {
     "name": "stdout",
     "output_type": "stream",
     "text": [
      "正整數的數量: 5\n"
     ]
    }
   ],
   "source": [
    "# 定義一個包含數字的列表\n",
    "numbers = [1, -2, 3, 4, -5, 6, 0, 7]\n",
    "\n",
    "# 初始化計數器\n",
    "count = 0\n",
    "\n",
    "# 遍歷列表中的每個數字\n",
    "for num in numbers:\n",
    "    if num > 0:  # 檢查數字是否為正整數\n",
    "        count += 1  # 如果是，計數器加一\n",
    "\n",
    "# 輸出正整數的數量\n",
    "print(\"正整數的數量:\", count)\n"
   ]
  },
  {
   "cell_type": "code",
   "execution_count": 12,
   "id": "38c01081-d303-4854-8bb1-652104d78796",
   "metadata": {},
   "outputs": [
    {
     "name": "stdout",
     "output_type": "stream",
     "text": [
      "指\n",
      "令 與 語 法\n"
     ]
    }
   ],
   "source": [
    "p, *q = '指令與語法'\n",
    "print(p)\n",
    "print(*q)"
   ]
  },
  {
   "cell_type": "code",
   "execution_count": null,
   "id": "0cd8a1d2-5671-4788-ae25-3e49c58c799f",
   "metadata": {},
   "outputs": [],
   "source": []
  }
 ],
 "metadata": {
  "kernelspec": {
   "display_name": "Python 3 (ipykernel)",
   "language": "python",
   "name": "python3"
  },
  "language_info": {
   "codemirror_mode": {
    "name": "ipython",
    "version": 3
   },
   "file_extension": ".py",
   "mimetype": "text/x-python",
   "name": "python",
   "nbconvert_exporter": "python",
   "pygments_lexer": "ipython3",
   "version": "3.12.7"
  }
 },
 "nbformat": 4,
 "nbformat_minor": 5
}
