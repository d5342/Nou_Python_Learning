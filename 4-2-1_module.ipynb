{
 "cells": [
  {
   "cell_type": "code",
   "execution_count": null,
   "id": "c38147c7-8e94-4807-b9ac-186ec31c54f2",
   "metadata": {},
   "outputs": [],
   "source": [
    "import mymodule  # 引入模組\n",
    "mymodule.welcome('!Su') # 使用模組內函式"
   ]
  },
  {
   "cell_type": "code",
   "execution_count": null,
   "id": "5260fd57-1219-4ddd-8b9f-f1447faaa128",
   "metadata": {
    "scrolled": true
   },
   "outputs": [],
   "source": [
    "import mymodule # 引入模組\n",
    "print(mymodule.my) # 引用變數"
   ]
  },
  {
   "cell_type": "code",
   "execution_count": null,
   "id": "a1eb22f3-fd32-4f14-ad60-873b2a6e29d4",
   "metadata": {},
   "outputs": [],
   "source": [
    "import mymodule  # 引入模組\n",
    "x=mymodule.friend['ID'] #  引用變數\n",
    "print(x)"
   ]
  },
  {
   "cell_type": "code",
   "execution_count": null,
   "id": "9fd3eee4-318f-4613-9543-572384139f41",
   "metadata": {},
   "outputs": [],
   "source": [
    "import mymodule as MD # 重新命名模組\n",
    "a=MD.welcome('!Su')"
   ]
  },
  {
   "cell_type": "code",
   "execution_count": null,
   "id": "b44e92dd-ed90-4fa6-b30c-3e738b0551c9",
   "metadata": {},
   "outputs": [],
   "source": [
    "import platform # 引用內建模組platform\n",
    "x=platform.system()\n",
    "print(x)"
   ]
  },
  {
   "cell_type": "code",
   "execution_count": null,
   "id": "c55ece72-b6cd-4cf3-b320-ff85e9825caa",
   "metadata": {},
   "outputs": [],
   "source": [
    "# 部分引用\n",
    "from mymodule import friend\n",
    "print(friend['ID'])"
   ]
  },
  {
   "cell_type": "code",
   "execution_count": null,
   "id": "49cfd428-1c6a-4a87-ae97-e140a2a3a694",
   "metadata": {},
   "outputs": [],
   "source": [
    "# 使用datetime module\n",
    "import datetime\n",
    "x=datetime.datetime.now()\n",
    "print(x)"
   ]
  },
  {
   "cell_type": "code",
   "execution_count": null,
   "id": "35f86201-8e44-4127-b856-cb351dd584df",
   "metadata": {},
   "outputs": [],
   "source": [
    "# 搭配from使用\n",
    "from datetime import time\n",
    "x=time(hour=15)\n",
    "print(x)\n",
    "\n",
    "from calendar import*"
   ]
  },
  {
   "cell_type": "code",
   "execution_count": null,
   "id": "2fd341d6-945d-4dad-96da-776e51ddbc56",
   "metadata": {},
   "outputs": [],
   "source": [
    "# 搭配as使用\n",
    "import calendar as c\n",
    "print(c.month_name[1])"
   ]
  },
  {
   "cell_type": "code",
   "execution_count": null,
   "id": "a6f6a7b9-7ea2-49c7-bba2-f02f4d70cac4",
   "metadata": {},
   "outputs": [],
   "source": [
    "# 使用os套件\n",
    "import os\n",
    "os.getcwd()\n",
    "os.chdir('C:\\\\')\n",
    "os.getcwd()\n",
    "os.listdir()"
   ]
  },
  {
   "cell_type": "code",
   "execution_count": null,
   "id": "4fcc0018-6eae-4e1c-8922-8acb0d71f357",
   "metadata": {},
   "outputs": [],
   "source": [
    "# 內建數學函式與math模組\n",
    "X=pow(7,2)\n",
    "import math\n",
    "Y=math.floor(2.2)\n",
    "Z=math.pi\n",
    "print(X,Y,Z)"
   ]
  },
  {
   "cell_type": "code",
   "execution_count": null,
   "id": "3771643a-1e9f-4649-974a-9c70242332fb",
   "metadata": {},
   "outputs": [],
   "source": [
    "# 套件管理程式PIP\n",
    "!pip --version # 檢查pip版本\n",
    "!pip install package_name # 安裝套件\n",
    "!pip list #列出套件\n",
    "!pip uninstall package_name #移除套件"
   ]
  },
  {
   "cell_type": "code",
   "execution_count": 4,
   "id": "c21de651-4c2e-4bd0-bd1c-ed01f034d0b4",
   "metadata": {},
   "outputs": [],
   "source": [
    "def factorial(n):\n",
    "  # 基本條件:1!=1\n",
    "  if n==1:\n",
    "      return 1\n",
    "  # 遞迴狀況:n!=n*(n-1)!\n",
    "  else:\n",
    "      return n*factorial(n-1)"
   ]
  },
  {
   "cell_type": "code",
   "execution_count": 5,
   "id": "3ffb28f2-1697-458a-9e2a-f086463b677f",
   "metadata": {},
   "outputs": [
    {
     "data": {
      "text/plain": [
       "24"
      ]
     },
     "execution_count": 5,
     "metadata": {},
     "output_type": "execute_result"
    }
   ],
   "source": [
    "factorial(4)"
   ]
  },
  {
   "cell_type": "code",
   "execution_count": null,
   "id": "c2a25628-d140-4dec-adef-d39d21812a45",
   "metadata": {},
   "outputs": [],
   "source": []
  }
 ],
 "metadata": {
  "kernelspec": {
   "display_name": "Python 3 (ipykernel)",
   "language": "python",
   "name": "python3"
  },
  "language_info": {
   "codemirror_mode": {
    "name": "ipython",
    "version": 3
   },
   "file_extension": ".py",
   "mimetype": "text/x-python",
   "name": "python",
   "nbconvert_exporter": "python",
   "pygments_lexer": "ipython3",
   "version": "3.12.7"
  }
 },
 "nbformat": 4,
 "nbformat_minor": 5
}
