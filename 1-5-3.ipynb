{
 "cells": [
  {
   "cell_type": "code",
   "execution_count": 1,
   "id": "e5b0e604-1a53-4a58-b12f-768abadc824e",
   "metadata": {},
   "outputs": [
    {
     "data": {
      "text/plain": [
       "3"
      ]
     },
     "execution_count": 1,
     "metadata": {},
     "output_type": "execute_result"
    }
   ],
   "source": [
    "1+2"
   ]
  },
  {
   "cell_type": "code",
   "execution_count": 4,
   "id": "ba309d3d-4477-45a6-b53d-1e077ccc552e",
   "metadata": {},
   "outputs": [
    {
     "name": "stdin",
     "output_type": "stream",
     "text": [
      "請輸入要計算其平方根的正數: 4\n"
     ]
    }
   ],
   "source": [
    "sqrt_of_num = float(input(\"請輸入要計算其平方根的正數:\"))\n",
    "s = 1\n",
    "while(1):\n",
    "    y = s*s\n",
    "    if sqrt_of_num-0.1 < y <sqrt_of_num+0.1:\n",
    "        break\n",
    "    else:\n",
    "        pass\n",
    "    s = s +0.01"
   ]
  },
  {
   "cell_type": "code",
   "execution_count": 5,
   "id": "7d2f1f00-43f2-412a-aa6a-45ab9c6ef66e",
   "metadata": {},
   "outputs": [
    {
     "name": "stdout",
     "output_type": "stream",
     "text": [
      "\n",
      " 平方根: 1.98\n"
     ]
    }
   ],
   "source": [
    "print('\\n 平方根:',round(s,2))\n",
    "    "
   ]
  },
  {
   "cell_type": "code",
   "execution_count": null,
   "id": "799e86af-2e2f-4a1f-921a-bdfa4bd7ab38",
   "metadata": {},
   "outputs": [],
   "source": []
  }
 ],
 "metadata": {
  "kernelspec": {
   "display_name": "Python 3 (ipykernel)",
   "language": "python",
   "name": "python3"
  },
  "language_info": {
   "codemirror_mode": {
    "name": "ipython",
    "version": 3
   },
   "file_extension": ".py",
   "mimetype": "text/x-python",
   "name": "python",
   "nbconvert_exporter": "python",
   "pygments_lexer": "ipython3",
   "version": "3.12.7"
  }
 },
 "nbformat": 4,
 "nbformat_minor": 5
}
