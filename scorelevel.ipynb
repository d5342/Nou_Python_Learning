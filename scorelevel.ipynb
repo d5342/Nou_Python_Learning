{
 "cells": [
  {
   "cell_type": "code",
   "execution_count": 6,
   "id": "84f324e5-002a-41e2-98b6-98502ba41a37",
   "metadata": {},
   "outputs": [
    {
     "name": "stdin",
     "output_type": "stream",
     "text": [
      "輸入成績查看評等 50\n"
     ]
    },
    {
     "name": "stdout",
     "output_type": "stream",
     "text": [
      "C\n"
     ]
    }
   ],
   "source": [
    "score = int(input('輸入成績查看評等'))\n",
    "if score>=90:\n",
    "    print('A+')\n",
    "elif score>=80:\n",
    "    print('A')\n",
    "elif score>=70:\n",
    "    print('B')\n",
    "else:\n",
    "    print('C')"
   ]
  },
  {
   "cell_type": "code",
   "execution_count": null,
   "id": "c8b3a448-02f4-49ac-8ce2-7465a1c5d5ed",
   "metadata": {},
   "outputs": [],
   "source": []
  }
 ],
 "metadata": {
  "kernelspec": {
   "display_name": "Python 3 (ipykernel)",
   "language": "python",
   "name": "python3"
  },
  "language_info": {
   "codemirror_mode": {
    "name": "ipython",
    "version": 3
   },
   "file_extension": ".py",
   "mimetype": "text/x-python",
   "name": "python",
   "nbconvert_exporter": "python",
   "pygments_lexer": "ipython3",
   "version": "3.12.7"
  }
 },
 "nbformat": 4,
 "nbformat_minor": 5
}
